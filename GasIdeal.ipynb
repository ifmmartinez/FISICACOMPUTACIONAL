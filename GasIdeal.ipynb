{
 "cells": [
  {
   "cell_type": "code",
   "execution_count": 1,
   "metadata": {
    "collapsed": true
   },
   "outputs": [],
   "source": [
    "workspace()"
   ]
  },
  {
   "cell_type": "code",
   "execution_count": 5,
   "metadata": {
    "collapsed": true
   },
   "outputs": [],
   "source": [
    "type Particula #Crea el tipo Partícula con posición r(x,y) y velocidad v(v_x, v_y)\n",
    "    r::Vector{Float64}\n",
    "    v::Vector{Float64}\n",
    "end\n",
    "\n",
    "\n",
    "\n",
    "\n",
    "type Gas #Crea el tipo gas con entradas N: Número de Particulas y Particulas: Arreglo unidimensional de objetos de tipo Particula\n",
    "    N::Int\n",
    "    Particulas::Vector{Particula}\n",
    "end\n",
    "\n"
   ]
  },
  {
   "cell_type": "code",
   "execution_count": 6,
   "metadata": {
    "collapsed": false
   },
   "outputs": [
    {
     "data": {
      "text/plain": [
       "EvolveGas! (generic function with 1 method)"
      ]
     },
     "execution_count": 6,
     "metadata": {},
     "output_type": "execute_result"
    }
   ],
   "source": [
    "function Gas(Particulas::Vector{Particula}) #Toma un Gas sin la entrada N y crea uno con ella\n",
    "     Gas(length(Particulas), Particulas)\n",
    "end\n",
    "\n",
    "\n",
    "\n",
    "\n",
    "import Base.push!\n",
    "function push!(G::Gas, P::Particula) #Defino push! para mis nuevos tipos. Agrega una partícula y contabiliza N\n",
    "    push!(G.Particulas, P)\n",
    "    G.N=length(G.Particulas)\n",
    "    G\n",
    "end\n",
    "\n",
    "\n",
    "\n",
    "\n",
    "\n",
    "function EvolvePrueba!(G::Gas, dt::Float64) #Evolución del gas sin fronteras\n",
    "    for i = 1:length(G.Particulas)\n",
    "        G.Particulas[i].r[1] += G.Particulas[i].v[1]*dt  #Evoluciona la parte de x\n",
    "        G.Particulas[i].r[2] += G.Particulas[i].v[2]*dt  #Evoluciona la parte de y\n",
    "    end\n",
    "    println(\"Particula([x, y],[V.x, V.y])\") #Compresión del formato del output\n",
    "    G.Particulas\n",
    "end\n",
    "\n",
    "\n",
    "\n",
    "\n",
    "\n",
    "function EvolveParticula!(P::Particula, dt::Float64, L::Float64) #Mueve una Partícula\n",
    "    for i = 1:length(P.r)\n",
    "        newpos = P.r[i] + P.v[i]*dt \n",
    "        if abs(newpos) <= L\n",
    "            P.r[i] += P.v[i]*dt\n",
    "        else\n",
    "            P.v[i] = -P.v[i] #Si se sale, se queda donde está pero con velocidad contraria\n",
    "        end\n",
    "    end\n",
    "    P\n",
    "end\n",
    "    \n",
    "\n",
    "\n",
    "\n",
    "\n",
    "\n",
    "function EvolveGas!(G::Gas, dt::Float64, L::Float64) #Mueve un Gas, Partícula por Partícula con la función anterior\n",
    "    for i = 1:length(G.Particulas)\n",
    "        EvolveParticula!(G.Particulas[i], dt, L)\n",
    "    end\n",
    "    println(\"Particula([x, y],[V.x, V.y])\") #Compresión del formato del output\n",
    "    G.Particulas\n",
    "end\n",
    "        "
   ]
  },
  {
   "cell_type": "markdown",
   "metadata": {},
   "source": [
    "PRUEBA"
   ]
  },
  {
   "cell_type": "code",
   "execution_count": 12,
   "metadata": {
    "collapsed": false
   },
   "outputs": [
    {
     "data": {
      "text/plain": [
       "Gas(0,[])"
      ]
     },
     "execution_count": 12,
     "metadata": {},
     "output_type": "execute_result"
    }
   ],
   "source": [
    "GasPrueba = Gas(Particula[]) #Hizo un gas llamado GasPrueba con ninguna partícula"
   ]
  },
  {
   "cell_type": "code",
   "execution_count": 14,
   "metadata": {
    "collapsed": false
   },
   "outputs": [
    {
     "data": {
      "text/plain": [
       "6-element Array{Particula,1}:\n",
       " Particula([0.0,0.0],[0.453689,0.779871]) \n",
       " Particula([0.0,0.0],[-0.074254,0.537027])\n",
       " Particula([0.0,0.0],[1.42088,0.56309])   \n",
       " Particula([0.0,0.0],[0.284529,-1.03339]) \n",
       " Particula([0.0,0.0],[-1.23165,-0.756303])\n",
       " Particula([0.0,0.0],[-1.96626,0.203592]) "
      ]
     },
     "execution_count": 14,
     "metadata": {},
     "output_type": "execute_result"
    }
   ],
   "source": [
    "push!(GasPrueba, Particula([0,0],[randn(2)]))\n",
    "push!(GasPrueba, Particula([0,0],[randn(2)]))\n",
    "push!(GasPrueba, Particula([0,0],[randn(2)]))\n",
    "push!(GasPrueba, Particula([0,0],[randn(2)]))\n",
    "push!(GasPrueba, Particula([0,0],[randn(2)]))\n",
    "GasPrueba.Particulas"
   ]
  },
  {
   "cell_type": "code",
   "execution_count": 17,
   "metadata": {
    "collapsed": false
   },
   "outputs": [
    {
     "name": "stdout",
     "output_type": "stream",
     "text": [
      "Particula([x, y],[V.x, V.y])\n"
     ]
    },
    {
     "data": {
      "text/plain": [
       "6-element Array{Particula,1}:\n",
       " Particula([0.453689,0.779871],[0.453689,0.779871])  \n",
       " Particula([-0.074254,0.537027],[-0.074254,0.537027])\n",
       " Particula([1.42088,0.56309],[1.42088,0.56309])      \n",
       " Particula([0.284529,-1.03339],[0.284529,-1.03339])  \n",
       " Particula([-1.23165,-0.756303],[-1.23165,-0.756303])\n",
       " Particula([-1.96626,0.203592],[-1.96626,0.203592])  "
      ]
     },
     "execution_count": 17,
     "metadata": {},
     "output_type": "execute_result"
    }
   ],
   "source": [
    "EvolveGas!(GasPrueba,1.0,10.0)"
   ]
  },
  {
   "cell_type": "code",
   "execution_count": null,
   "metadata": {
    "collapsed": true
   },
   "outputs": [],
   "source": []
  }
 ],
 "metadata": {
  "kernelspec": {
   "display_name": "Julia 0.3.6",
   "language": "julia",
   "name": "julia 0.3"
  },
  "language_info": {
   "name": "julia",
   "version": "0.3.6"
  }
 },
 "nbformat": 4,
 "nbformat_minor": 0
}
