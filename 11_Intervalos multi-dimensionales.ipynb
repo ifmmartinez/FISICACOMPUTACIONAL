{
 "cells": [
  {
   "cell_type": "markdown",
   "metadata": {},
   "source": [
    "# Intervalos multi-dimensionales "
   ]
  },
  {
   "cell_type": "code",
   "execution_count": 1,
   "metadata": {
    "collapsed": true
   },
   "outputs": [],
   "source": [
    "workspace()"
   ]
  },
  {
   "cell_type": "code",
   "execution_count": 2,
   "metadata": {
    "collapsed": false
   },
   "outputs": [],
   "source": [
    "using Intervalos"
   ]
  },
  {
   "cell_type": "markdown",
   "metadata": {},
   "source": [
    "Para resolver problemas en más que una dimensión, será necesario poder calcular un *enclosure* (\"encierro\") de la imagen de una función sobre un conjunto en varias dimensiones.\n",
    "Para ello, podemos definir **intervalos multi-dimensionales**, de manera análoga a los intervalos uni-dimensionales que ya conocemos."
   ]
  },
  {
   "cell_type": "markdown",
   "metadata": {},
   "source": [
    "[1] ¿Cuál sería una definición matemática razonable de un intervalo multi-dimensional?"
   ]
  },
  {
   "cell_type": "markdown",
   "metadata": {},
   "source": [
    "Si denotamos un intervalo como"
   ]
  },
  {
   "cell_type": "markdown",
   "metadata": {},
   "source": [
    "$X_n=[\\overline{X}_n, \\underline{X}_n]$"
   ]
  },
  {
   "cell_type": "markdown",
   "metadata": {},
   "source": [
    "Por un intervalo multidimensional, se refiere a una tupla de n intervalos\n",
    "$X=(X_1, X_2, ..., X_n)$.\n",
    "Por ejemplo, un intervalo de dos dimensiones"
   ]
  },
  {
   "cell_type": "markdown",
   "metadata": {},
   "source": [
    "$X = (X_1, X_2) = ([\\overline{X}_1, \\underline{X}_1],[\\overline{X}_2, \\underline{X}_2])$"
   ]
  },
  {
   "cell_type": "markdown",
   "metadata": {},
   "source": [
    "donde, pictográficamente, estaríamos denotando un rectángulo en el plano-$x_1 x_2$: siendo un conjunto de puntos $(x_1, x_2)$,\n",
    "tal que"
   ]
  },
  {
   "cell_type": "markdown",
   "metadata": {},
   "source": [
    "$\\overline{X}_1 \\leq x_1 \\leq \\underline{X}_1$"
   ]
  },
  {
   "cell_type": "markdown",
   "metadata": {},
   "source": [
    "$\\overline{X}_2 \\leq x_2 \\leq \\underline{X}_2$"
   ]
  },
  {
   "cell_type": "markdown",
   "metadata": {},
   "source": [
    "[2] ¿Cómo podríamos expresar esto en Julia? Da dos posibilidades.\n",
    "\n",
    "[Pista: Checa `typealias`]"
   ]
  },
  {
   "cell_type": "code",
   "execution_count": 3,
   "metadata": {
    "collapsed": false
   },
   "outputs": [],
   "source": [
    "module MultidimensionalIntervals\n",
    "\n",
    "  using Intervalos\n",
    "  import Base.exp, Base.log, Base.sin, Base.cos, Base.tan, Base.length, Base.contains\n",
    "  export MultiInterval, +, -, *, /, contains, midpoint, Intersection\n",
    "\n",
    "type MultiInterval\n",
    "    N::Int\n",
    "    intervalos::Vector{Interval}    \n",
    "end\n",
    "\n",
    "  function MultiInterval(intervalos::Array{Interval,1})\n",
    "      if length(intervalos)==1 #En caso de ser sólo un intervalo regresa tal intervalo (hace algo similar a typealias)\n",
    "          return intervalos[1]\n",
    "      else\n",
    "          MultiInterval(length(intervalos),intervalos)\n",
    "      end\n",
    "  end\n",
    "\n",
    "  #SUMAS\n",
    "\n",
    "  function +(X::MultiInterval, Y::MultiInterval)\n",
    "      if length(X.intervalos)==length(Y.intervalos)\n",
    "          Z=MultiInterval(length(X.intervalos),Interval[])\n",
    "          for i=1:length(X.intervalos)\n",
    "              push!(Z.intervalos,X.intervalos[i]+Y.intervalos[i])\n",
    "          end\n",
    "          return Z\n",
    "      else\n",
    "          error(\"No tienen la misma dimensión\")\n",
    "      end\n",
    "  end\n",
    "\n",
    "  function +(X::MultiInterval,N::Real)\n",
    "      Z=MultiInterval(length(X.intervalos),Interval[])\n",
    "          for i=1:length(X.intervalos)\n",
    "              push!(Z.intervalos,X.intervalos[i]+N)\n",
    "          end\n",
    "  end\n",
    "\n",
    "  function +(N::Real, X::MultiInterval)\n",
    "      +(X,N)\n",
    "  end\n",
    "\n",
    "\n",
    "\n",
    "  #RESTAS\n",
    "\n",
    "  function -(X::MultiInterval, Y::MultiInterval)\n",
    "      if length(X.intervalos)==length(Y.intervalos)\n",
    "          Z=MultiInterval(length(X.intervalos),Interval[])\n",
    "          for i=1:length(X.intervalos)\n",
    "              push!(Z.intervalos,X.intervalos[i]-Y.intervalos[i])\n",
    "          end\n",
    "          return Z\n",
    "      else\n",
    "          error(\"No tienen la misma dimensión\")\n",
    "      end\n",
    "  end\n",
    "\n",
    "  function +(X::MultiInterval,N::Real)\n",
    "      Z=MultiInterval(length(X.intervalos),Interval[])\n",
    "          for i=1:length(X.intervalos)\n",
    "              push!(Z.intervalos,X.intervalos[i]-N)\n",
    "          end\n",
    "  end\n",
    "\n",
    "  function -(N::Real, X::MultiInterval)\n",
    "      -(X,N)\n",
    "  end\n",
    "\n",
    "  #Multiplicación\n",
    "\n",
    "  function *(X::MultiInterval, Y::MultiInterval)\n",
    "      if length(X.intervalos)==length(Y.intervalos)\n",
    "          Z=MultiInterval(length(X.intervalos),Interval[])\n",
    "          for i=1:length(X.intervalos)\n",
    "              push!(Z.intervalos,X.intervalos[i]*Y.intervalos[i])\n",
    "          end\n",
    "          return Z\n",
    "      else\n",
    "          error(\"No tienen la misma dimensión\")\n",
    "      end\n",
    "  end\n",
    "\n",
    "    function *(N::Real,X::MultiInterval)\n",
    "        Z=MultiInterval(length(X.intervalos),Interval[])\n",
    "            for i=1:length(X.intervalos)\n",
    "                push!(Z.intervalos,X.intervalos[i]*N)\n",
    "            end\n",
    "        Z\n",
    "    end\n",
    "\n",
    "    function *(X::MultiInterval, N::Real)\n",
    "        *(N,X)\n",
    "    end\n",
    "\n",
    "\n",
    "  #División\n",
    "\n",
    "\n",
    "  function /(X::MultiInterval, Y::MultiInterval)\n",
    "      if length(X.intervalos)==length(Y.intervalos)\n",
    "          Z=MultiInterval(length(X.intervalos),Interval[])\n",
    "          for i=1:length(X.intervalos)\n",
    "              push!(Z.intervalos,ExtendedDivision(X.intervalos[i],Y.intervalos[i]))\n",
    "          end\n",
    "          return Z\n",
    "      else\n",
    "          error(\"No tienen la misma dimensión\")\n",
    "      end\n",
    "  end\n",
    "\n",
    "\n",
    "  function /(N::Real, Y::MultiInterval)\n",
    "      N_Interval=Interval(N,N)\n",
    "      Z=MultiInterval(length(X.intervalos),Interval[])\n",
    "          for i=1:length(X.intervalos)\n",
    "          push!(Z.intervalos,ExtendedDivision(N_Interval,Y.intervalos[i]))\n",
    "          end\n",
    "          return Z\n",
    "  end\n",
    "\n",
    "\n",
    "    function /(Y::MultiInterval, N::Real)\n",
    "        N_Interval=Interval(N,N)\n",
    "        Z=MultiInterval(length(X.intervalos),Interval[])\n",
    "            for i=1:length(X.intervalos)\n",
    "            push!(Z.intervalos,Y.intervalos[i]/N_Interval)\n",
    "            end\n",
    "        return Z\n",
    "    end\n",
    "\n",
    "\n",
    "  #Potenciación\n",
    "\n",
    "\n",
    "  function ^(X::MultiInterval,N::Int)\n",
    "      Z=MultiInterval(length(X.intervalos),Interval[])\n",
    "          for i=1:length(X.intervalos)\n",
    "              push!(Z.intervalos,^(X.intervalos[i],N))\n",
    "          end\n",
    "  end\n",
    "\n",
    "#Funciones varias\n",
    "\n",
    "\n",
    "\n",
    "\n",
    "\n",
    "end #module"
   ]
  },
  {
   "cell_type": "code",
   "execution_count": 4,
   "metadata": {
    "collapsed": false
   },
   "outputs": [],
   "source": [
    "using MultidimensionalIntervals"
   ]
  },
  {
   "cell_type": "markdown",
   "metadata": {},
   "source": [
    "[3] ¿Cuáles operaciones matemáticas necesitaremos definir sobre los intervalos multi-dimensionales? Impleméntalos en un módulo. ¿Cuál de las dos definiciones resulta más útil en ese respecto?"
   ]
  },
  {
   "cell_type": "code",
   "execution_count": 5,
   "metadata": {
    "collapsed": false
   },
   "outputs": [],
   "source": [
    "X1=Interval(-1,1)\n",
    "X2=Interval(-2,2)\n",
    "Y1=Interval(1,3)\n",
    "Y2=Interval(-2,-3)\n",
    "Y3=Interval(-2.5,-3.3)\n",
    "X=MultiInterval([X1,X2])\n",
    "Y=MultiInterval([Y1,Y2])\n",
    "Yerror=MultiInterval([Y1, Y2, Y3]);"
   ]
  },
  {
   "cell_type": "code",
   "execution_count": 380,
   "metadata": {
    "collapsed": false
   },
   "outputs": [
    {
     "data": {
      "text/plain": [
       "MultiInterval(2,[Interval(0,4),Interval(-5,0)])"
      ]
     },
     "execution_count": 380,
     "metadata": {},
     "output_type": "execute_result"
    }
   ],
   "source": [
    "X+Y"
   ]
  },
  {
   "cell_type": "code",
   "execution_count": 417,
   "metadata": {
    "collapsed": false
   },
   "outputs": [
    {
     "data": {
      "text/plain": [
       "MultiInterval(2,[Interval(-2,-2),Interval(1,4)])"
      ]
     },
     "execution_count": 417,
     "metadata": {},
     "output_type": "execute_result"
    }
   ],
   "source": [
    "X-Y"
   ]
  },
  {
   "cell_type": "code",
   "execution_count": 337,
   "metadata": {
    "collapsed": false
   },
   "outputs": [
    {
     "data": {
      "text/plain": [
       "MultiInterval(2,[Interval(-3,3),Interval(-6,6)])"
      ]
     },
     "execution_count": 337,
     "metadata": {},
     "output_type": "execute_result"
    }
   ],
   "source": [
    "X*Y"
   ]
  },
  {
   "cell_type": "code",
   "execution_count": 382,
   "metadata": {
    "collapsed": false
   },
   "outputs": [
    {
     "data": {
      "text/plain": [
       "MultiInterval(2,[Interval(-2,2),Interval(-4,4)])"
      ]
     },
     "execution_count": 382,
     "metadata": {},
     "output_type": "execute_result"
    }
   ],
   "source": [
    "X*2"
   ]
  },
  {
   "cell_type": "code",
   "execution_count": 388,
   "metadata": {
    "collapsed": false
   },
   "outputs": [],
   "source": [
    "X^2 #NO DA RESULTADO"
   ]
  },
  {
   "cell_type": "code",
   "execution_count": 387,
   "metadata": {
    "collapsed": false
   },
   "outputs": [
    {
     "data": {
      "text/plain": [
       "Interval(0.0,1)"
      ]
     },
     "execution_count": 387,
     "metadata": {},
     "output_type": "execute_result"
    }
   ],
   "source": [
    "^(X.intervalos[1],2)"
   ]
  },
  {
   "cell_type": "code",
   "execution_count": 385,
   "metadata": {
    "collapsed": false
   },
   "outputs": [
    {
     "ename": "LoadError",
     "evalue": "No tienen la misma dimensión\nwhile loading In[385], in expression starting on line 1",
     "output_type": "error",
     "traceback": [
      "No tienen la misma dimensión\nwhile loading In[385], in expression starting on line 1",
      "",
      " in + at In[376]:30"
     ]
    }
   ],
   "source": [
    "X+Yerror"
   ]
  },
  {
   "cell_type": "markdown",
   "metadata": {},
   "source": [
    "[4] Considera la función $f: \\mathbb{R}^2 \\to \\mathbb{R}^2$, dada por $f(x,y) = \\mathsf{M} \\cdot \\mathbf{x}$, con $\\mathsf{M} = \\begin{pmatrix} 2 & 1 \\\\ 1 & 1 \\end{pmatrix}$.\n",
    "\n",
    "(i) Encuentra a mano la imagen del cuadrado unitario. Encuentra el intervalo multi-dimensional más pequeño que contiene este conjunto.\n",
    "\n",
    "(ii) Verifica el resultado con tu código.\n",
    "\n",
    "(iii) ¿Cuál es el problema que ocurre? ¿Cómo lo podríamos resolver? Impleméntalo."
   ]
  },
  {
   "cell_type": "code",
   "execution_count": 6,
   "metadata": {
    "collapsed": false
   },
   "outputs": [
    {
     "data": {
      "text/plain": [
       "f (generic function with 1 method)"
      ]
     },
     "execution_count": 6,
     "metadata": {},
     "output_type": "execute_result"
    }
   ],
   "source": [
    "function f(X::MultiInterval)\n",
    "    x=X.intervalos[1]*2+X.intervalos[2]\n",
    "    y=X.intervalos[1]+X.intervalos[2]\n",
    "    return MultiInterval([x,y])\n",
    "end"
   ]
  },
  {
   "cell_type": "code",
   "execution_count": 24,
   "metadata": {
    "collapsed": false
   },
   "outputs": [
    {
     "data": {
      "text/plain": [
       "MultiInterval(2,[Interval(3,6),Interval(2,4)])"
      ]
     },
     "execution_count": 24,
     "metadata": {},
     "output_type": "execute_result"
    }
   ],
   "source": [
    "X1=Interval(1,2)\n",
    "X2=Interval(1,2)\n",
    "X=MultiInterval([X1,X2])\n",
    "f(X)"
   ]
  },
  {
   "cell_type": "code",
   "execution_count": 8,
   "metadata": {
    "collapsed": false
   },
   "outputs": [
    {
     "data": {
      "text/plain": [
       "Area (generic function with 1 method)"
      ]
     },
     "execution_count": 8,
     "metadata": {},
     "output_type": "execute_result"
    }
   ],
   "source": [
    "function Area(X::MultiInterval)\n",
    "    length(X.intervalos[1])length(X.intervalos[2])\n",
    "end"
   ]
  },
  {
   "cell_type": "code",
   "execution_count": 10,
   "metadata": {
    "collapsed": false
   },
   "outputs": [
    {
     "data": {
      "text/plain": [
       "1"
      ]
     },
     "execution_count": 10,
     "metadata": {},
     "output_type": "execute_result"
    }
   ],
   "source": [
    "Area(X)"
   ]
  },
  {
   "cell_type": "code",
   "execution_count": 9,
   "metadata": {
    "collapsed": false
   },
   "outputs": [
    {
     "data": {
      "text/plain": [
       "6"
      ]
     },
     "execution_count": 9,
     "metadata": {},
     "output_type": "execute_result"
    }
   ],
   "source": [
    "Area(f(X))"
   ]
  },
  {
   "cell_type": "markdown",
   "metadata": {},
   "source": [
    "Está mapeando un cuadrado unitario en un rectángulo de área 6, por lo tanto no está mapeando cada punto del dominio en un sólo punto de la imagen"
   ]
  },
  {
   "cell_type": "markdown",
   "metadata": {},
   "source": [
    "[5] Haz lo mismo para la imagen del cuadrado unitario bajo la función \n",
    "\n",
    "$$ \\begin{pmatrix} x \\\\ y \\end{pmatrix} \\mapsto \n",
    "\\begin{pmatrix} 1 - ax^2 + y \\\\ b x \\end{pmatrix},$$\n",
    "\n",
    "con $a = 1.4$ y $b=0.3$ (el famoso \"mapeo de Hénon\")."
   ]
  },
  {
   "cell_type": "code",
   "execution_count": 27,
   "metadata": {
    "collapsed": false
   },
   "outputs": [
    {
     "data": {
      "text/plain": [
       "Henon (generic function with 1 method)"
      ]
     },
     "execution_count": 27,
     "metadata": {},
     "output_type": "execute_result"
    }
   ],
   "source": [
    "function Henon(X::MultiInterval)\n",
    "    x=1-(X.intervalos[1]^2)*1.4+X.intervalos[2]\n",
    "    y=X.intervalos[1]*0.3\n",
    "    return MultiInterval([x,y])\n",
    "end"
   ]
  },
  {
   "cell_type": "code",
   "execution_count": 42,
   "metadata": {
    "collapsed": false
   },
   "outputs": [
    {
     "data": {
      "text/plain": [
       "MultiInterval(2,[Interval(1.4,6.6),Interval(0.3,0.6)])"
      ]
     },
     "execution_count": 42,
     "metadata": {},
     "output_type": "execute_result"
    }
   ],
   "source": [
    "X1=Interval(1,2)\n",
    "X2=Interval(1,2)\n",
    "X=MultiInterval([X1,X2])\n",
    "Henon(X)"
   ]
  },
  {
   "cell_type": "code",
   "execution_count": 43,
   "metadata": {
    "collapsed": false
   },
   "outputs": [
    {
     "data": {
      "text/plain": [
       "1"
      ]
     },
     "execution_count": 43,
     "metadata": {},
     "output_type": "execute_result"
    }
   ],
   "source": [
    "Area(X)"
   ]
  },
  {
   "cell_type": "code",
   "execution_count": 44,
   "metadata": {
    "collapsed": false
   },
   "outputs": [
    {
     "data": {
      "text/plain": [
       "1.5599999999999998"
      ]
     },
     "execution_count": 44,
     "metadata": {},
     "output_type": "execute_result"
    }
   ],
   "source": [
    "Area(Henon(X))"
   ]
  },
  {
   "cell_type": "code",
   "execution_count": null,
   "metadata": {
    "collapsed": true
   },
   "outputs": [],
   "source": []
  }
 ],
 "metadata": {
  "kernelspec": {
   "display_name": "Julia 0.3.6",
   "language": "julia",
   "name": "julia 0.3"
  },
  "language_info": {
   "name": "julia",
   "version": "0.3.6"
  }
 },
 "nbformat": 4,
 "nbformat_minor": 0
}
