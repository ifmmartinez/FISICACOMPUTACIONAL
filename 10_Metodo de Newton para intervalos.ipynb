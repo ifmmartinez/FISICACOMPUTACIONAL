{
 "cells": [
  {
   "cell_type": "markdown",
   "metadata": {},
   "source": [
    "# El método de Newton para intervalos"
   ]
  },
  {
   "cell_type": "markdown",
   "metadata": {},
   "source": [
    "Igual que en la clase anterior, supondremos que $f(x)$ es una función continuamente diferenciable y que existe un valor $x^*$ donde $f(x^*)=0$ (es decir, $x^*$ es una raíz de $f$). Aquí abordaremos de nuevo cómo encontrar las raíces de $f$ dentro de un intervalo inicial $X$. Supondremos además que existe una extensión del intervalo $F'$ para la derivada $f'$, y que (por el momento) éste no contiene al cero: $0\\notin F'(X)$.\n",
    "\n",
    "La clave del método de Newton para intervalos está en aplicar el *teorema del valor medio*, que nos asegura que para cualquier $x\\in X$ se cumple que\n",
    "\n",
    "\\begin{equation}\n",
    "f(x) = f(x^*) + f'(\\xi) \\cdot (x-x^*),\n",
    "\\end{equation}\n",
    "\n",
    "para algúna $\\xi$ entre $x$ y $x^*$. Aquí, $\\xi$ es un valor desconocido, pero podemos utilizar el hecho de que está contenido en el intervalo: $\\xi \\in X$."
   ]
  },
  {
   "cell_type": "markdown",
   "metadata": {},
   "source": [
    "Por lo tanto, obtenemos \n",
    "\n",
    "\\begin{equation}\n",
    "x^* = x - \\frac{f(x)}{f'(\\xi)} \\in x - \\frac{f(x)}{F'(X)} =: N(X,x),\n",
    "\\end{equation}\n",
    "donde hemos definido un operador $N$ que actúa sobre un intervalo y *cualquier* punto en el intervalo.\n",
    "\n",
    "Si suponemos que $x^*\\in X$, entonces $x^* \\in N(X,x)\\cap X$ para toda $x\\in X$.\n",
    "\n",
    "Una elección particular es $x = m := \\mathrm{mid}(X)$, el punto medio del intervalo $X$. Entonces obtenemos el llamado *operador de Newton para intervalos*:\n",
    "\n",
    "\\begin{equation}\n",
    "N(X) := N(X,m) = m - \\frac{f(m)}{F'(X)}.\n",
    "\\end{equation}\n",
    "\n",
    "Nota que cuando implementamos esto en la computadora, en general $f(m)$ no se podrá calcular exactamente, por lo cual es necesario convertir $m$ en un intervalo $M := [m,m]$, y usar la extensión natural $F(M)$, así que tenemos finalmente \n",
    "\n",
    "\\begin{equation}\n",
    "N(X) := M - \\frac{F(M)}{F'(X)},\n",
    "\\end{equation}\n",
    "donde ahora todos son intervalos."
   ]
  },
  {
   "cell_type": "markdown",
   "metadata": {},
   "source": [
    "Ahora podemos definir una sucesión de intervalos a partir de un intervalo inicial $X_0$, dada por $X_{k+1} := X_k \\cap N(X_k)$. Por construcción, si $x^*\\in X_0$ entonces $x^*\\in X_k$ para toda $k$. Entonces, si $X_0$ contiene a una raíz, la raíz se mantiene dentro de la secuencia de intervalos, que de hecho forman una secuencia anidada que converge a $x^*$. Entonces, si controlamos que de alguna manera el diámetro de los intervalos $x_k$ disminuya, obtendremos cotas precisas para $x^*$. Esto es el contenido del **Teorema del método de Newton para intervalos**."
   ]
  },
  {
   "cell_type": "markdown",
   "metadata": {},
   "source": [
    "Más aún, si $f(x)$ es doblemente continua y diferenciable y $N(X)$ está bien definida en el intervalo $X$, se puede demostrar que \n",
    "\n",
    "1. Si $N(X)\\cap X = \\emptyset$, es decir, $N(X)$ no se intersecta con $X$, entonces $X$ no contiene ninguna raíz de $f$.\n",
    "\n",
    "2. Si $N(X) \\subseteq X$, entonces $X$ contiene exactamente una raíz de $f$.\n",
    "\n"
   ]
  },
  {
   "cell_type": "code",
   "execution_count": 46,
   "metadata": {
    "collapsed": true
   },
   "outputs": [],
   "source": [
    "workspace()"
   ]
  },
  {
   "cell_type": "code",
   "execution_count": 47,
   "metadata": {
    "collapsed": false
   },
   "outputs": [
    {
     "data": {
      "text/plain": [
       "\"/home/juser\""
      ]
     },
     "execution_count": 47,
     "metadata": {},
     "output_type": "execute_result"
    }
   ],
   "source": [
    "pwd()"
   ]
  },
  {
   "cell_type": "code",
   "execution_count": 48,
   "metadata": {
    "collapsed": false
   },
   "outputs": [
    {
     "name": "stderr",
     "output_type": "stream",
     "text": [
      "Warning: Method definition IPv4(String,) in module Compat at /home/juser/.julia/v0.3/Compat/src/Compat.jl:31 overwritten in module Compat at /home/juser/.julia/v0.3/Compat/src/Compat.jl:31.\n",
      "Warning: Method definition IPv6(String,) in module Compat at /home/juser/.julia/v0.3/Compat/src/Compat.jl:32 overwritten in module Compat at /home/juser/.julia/v0.3/Compat/src/Compat.jl:32.\n",
      "Warning: Method definition isless(T<:IpAddr,T<:IpAddr) in module Compat at /home/juser/.julia/v0.3/Compat/src/Compat.jl:37 overwritten in module Compat at /home/juser/.julia/v0.3/Compat/src/Compat.jl:37.\n",
      "Warning: Method definition Dict(Any,) in module Compat at /home/juser/.julia/v0.3/Compat/src/Compat.jl:49 overwritten in module Compat at /home/juser/.julia/v0.3/Compat/src/Compat.jl:49.\n",
      "Warning: Method definition round(Type{T<:Integer},Integer) in module Compat at /home/juser/.julia/v0.3/Compat/src/Compat.jl:65 overwritten in module Compat at /home/juser/.julia/v0.3/Compat/src/Compat.jl:65.\n",
      "Warning: Method definition round(Type{T<:Integer},Any) in module Compat at /home/juser/.julia/v0.3/Compat/src/Compat.jl:66 overwritten in module Compat at /home/juser/.julia/v0.3/Compat/src/Compat.jl:66.\n",
      "Warning: Method definition round(Type{T<:Integer},Rational{T<:Integer}) in module Compat at /home/juser/.julia/v0.3/Compat/src/Compat.jl:67 overwritten in module Compat at /home/juser/.julia/v0.3/Compat/src/Compat.jl:67.\n",
      "Warning: Method definition ceil(Type{T<:Integer},Integer) in module Compat at /home/juser/.julia/v0.3/Compat/src/Compat.jl:65 overwritten in module Compat at /home/juser/.julia/v0.3/Compat/src/Compat.jl:65.\n",
      "Warning: Method definition ceil(Type{T<:Integer},Any) in module Compat at /home/juser/.julia/v0.3/Compat/src/Compat.jl:66 overwritten in module Compat at /home/juser/.julia/v0.3/Compat/src/Compat.jl:66.\n",
      "Warning: Method definition ceil(Type{T<:Integer},Rational{T<:Integer}) in module Compat at /home/juser/.julia/v0.3/Compat/src/Compat.jl:67 overwritten in module Compat at /home/juser/.julia/v0.3/Compat/src/Compat.jl:67.\n",
      "Warning: Method definition floor(Type{T<:Integer},Integer) in module Compat at /home/juser/.julia/v0.3/Compat/src/Compat.jl:65 overwritten in module Compat at /home/juser/.julia/v0.3/Compat/src/Compat.jl:65.\n",
      "Warning: Method definition floor(Type{T<:Integer},Any) in module Compat at /home/juser/.julia/v0.3/Compat/src/Compat.jl:66 overwritten in module Compat at /home/juser/.julia/v0.3/Compat/src/Compat.jl:66.\n",
      "Warning: Method definition floor(Type{T<:Integer},Rational{T<:Integer}) in module Compat at /home/juser/.julia/v0.3/Compat/src/Compat.jl:67 overwritten in module Compat at /home/juser/.julia/v0.3/Compat/src/Compat.jl:67.\n",
      "Warning: Method definition trunc(Type{T<:Integer},Integer) in module Compat at /home/juser/.julia/v0.3/Compat/src/Compat.jl:65 overwritten in module Compat at /home/juser/.julia/v0.3/Compat/src/Compat.jl:65.\n",
      "Warning: Method definition trunc(Type{T<:Integer},Any) in module Compat at /home/juser/.julia/v0.3/Compat/src/Compat.jl:66 overwritten in module Compat at /home/juser/.julia/v0.3/Compat/src/Compat.jl:66.\n",
      "Warning: Method definition trunc(Type{T<:Integer},Rational{T<:Integer}) in module Compat at /home/juser/.julia/v0.3/Compat/src/Compat.jl:67 overwritten in module Compat at /home/juser/.julia/v0.3/Compat/src/Compat.jl:67.\n",
      "Warning: Method definition rand(Type{Bool},) in module Compat at /home/juser/.julia/v0.3/Compat/src/Compat.jl:173 overwritten in module Compat at /home/juser/.julia/v0.3/Compat/src/Compat.jl:173.\n",
      "Warning: Method definition parse(Type{T<:Integer},Char) in module Compat at /home/juser/.julia/v0.3/Compat/src/Compat.jl:194 overwritten in module Compat at /home/juser/.julia/v0.3/Compat/src/Compat.jl:194.\n",
      "Warning: Method definition parse(Type{T<:Integer},Char,Integer) in module Compat at /home/juser/.julia/v0.3/Compat/src/Compat.jl:195 overwritten in module Compat at /home/juser/.julia/v0.3/Compat/src/Compat.jl:195.\n",
      "Warning: Method definition parse(Type{T<:Integer},String) in module Compat at /home/juser/.julia/v0.3/Compat/src/Compat.jl:196 overwritten in module Compat at /home/juser/.julia/v0.3/Compat/src/Compat.jl:196.\n",
      "Warning: Method definition parse(Type{T<:Integer},String,Integer) in module Compat at /home/juser/.julia/v0.3/Compat/src/Compat.jl:197 overwritten in module Compat at /home/juser/.julia/v0.3/Compat/src/Compat.jl:197.\n",
      "Warning: Method definition parse(Type{T<:Union(Float32,Float64)},String) in module Compat at /home/juser/.julia/v0.3/Compat/src/Compat.jl:198 overwritten in module Compat at /home/juser/.julia/v0.3/Compat/src/Compat.jl:198.\n",
      "Warning: Method definition show() in module PyPlot at /home/juser/.julia/v0.3/PyPlot/src/PyPlot.jl:360 overwritten in module PyPlot at /home/juser/.julia/v0.3/PyPlot/src/PyPlot.jl:360.\n",
      "Warning: Method definition step(Any,Any) in module PyPlot at /home/juser/.julia/v0.3/PyPlot/src/PyPlot.jl:374 overwritten in module PyPlot at /home/juser/.julia/v0.3/PyPlot/src/PyPlot.jl:374.\n",
      "Warning: Method definition step(Array{T,N},Any,Any) in module PyPlot overwritten in module PyPlot.\n",
      "Warning: New definition \n",
      "    close(Union(Symbol,String,Integer,Figure),) at /home/juser/.julia/v0.3/PyPlot/src/PyPlot.jl:376\n",
      "is ambiguous with: \n",
      "    close(Union(Symbol,String,Integer,Figure),) at /home/juser/.julia/v0.3/PyPlot/src/PyPlot.jl:376.\n",
      "To fix, define \n",
      "    close(Union(Symbol,String,Integer),)\n",
      "before the new definition.\n",
      "Warning: Method definition close() in module PyPlot at /home/juser/.julia/v0.3/PyPlot/src/PyPlot.jl:377 overwritten in module PyPlot at /home/juser/.julia/v0.3/PyPlot/src/PyPlot.jl:377.\n",
      "Warning: Method definition connect(Union(Symbol,String),Function) in module PyPlot at /home/juser/.julia/v0.3/PyPlot/src/PyPlot.jl:379 overwritten in module PyPlot at /home/juser/.julia/v0.3/PyPlot/src/PyPlot.jl:379.\n",
      "Warning: Method definition fill(AbstractArray{T,N},AbstractArray{T,N},Any...) in module PyPlot at /home/juser/.julia/v0.3/PyPlot/src/PyPlot.jl:381 overwritten in module PyPlot at /home/juser/.julia/v0.3/PyPlot/src/PyPlot.jl:381.\n",
      "Warning: Method definition fill(Array{T,N},AbstractArray{T,N},AbstractArray{T,N},Any...) in module PyPlot overwritten in module PyPlot.\n"
     ]
    }
   ],
   "source": [
    "using PyPlot"
   ]
  },
  {
   "cell_type": "code",
   "execution_count": 53,
   "metadata": {
    "collapsed": false
   },
   "outputs": [],
   "source": [
    "using Intervalos"
   ]
  },
  {
   "cell_type": "code",
   "execution_count": 55,
   "metadata": {
    "collapsed": false
   },
   "outputs": [],
   "source": [
    "using DerivadasNumericas"
   ]
  },
  {
   "cell_type": "code",
   "execution_count": 56,
   "metadata": {
    "collapsed": false
   },
   "outputs": [
    {
     "data": {
      "text/plain": [
       "ExtendedDivision (generic function with 1 method)"
      ]
     },
     "execution_count": 56,
     "metadata": {},
     "output_type": "execute_result"
    }
   ],
   "source": [
    "function ExtendedDivision(x::Interval, y::Interval)\n",
    "    if contains(y,0.0)==false\n",
    "        x/y\n",
    "    else\n",
    "        if y.left==0.0 && y.right>0.0\n",
    "            return Interval(1/y.right, +Inf)\n",
    "        else \n",
    "            if y.left<0.0 && y.right>0.0\n",
    "                return [Interval(-Inf,1/y.left), Interval(1/y.right,+Inf)]\n",
    "            else\n",
    "                if y.right==0.0 && y.left<0.0\n",
    "                    return Interval(-Inf,1/y.left)\n",
    "                end\n",
    "            end\n",
    "        end\n",
    "    end\n",
    "end"
   ]
  },
  {
   "cell_type": "code",
   "execution_count": 8,
   "metadata": {
    "collapsed": false
   },
   "outputs": [
    {
     "data": {
      "text/plain": [
       "contains (generic function with 3 methods)"
      ]
     },
     "execution_count": 8,
     "metadata": {},
     "output_type": "execute_result"
    }
   ],
   "source": [
    "import Base.contains\n",
    "function contains(x::Interval, n::Number)\n",
    "    if x.left<=n && x.right>=n\n",
    "        true\n",
    "    else\n",
    "        false\n",
    "    end\n",
    "end"
   ]
  },
  {
   "cell_type": "code",
   "execution_count": 9,
   "metadata": {
    "collapsed": false
   },
   "outputs": [],
   "source": [
    "x=Interval(-1.0,2.0)\n",
    "y=Interval(0.0,1.0)\n",
    "z=Interval(-1.0,0.0)\n",
    "w=Interval(-1.0,1.0);"
   ]
  },
  {
   "cell_type": "markdown",
   "metadata": {},
   "source": [
    "$\\frac{[-1.0,2.0]}{[0.0,1.0]}$"
   ]
  },
  {
   "cell_type": "code",
   "execution_count": 10,
   "metadata": {
    "collapsed": false
   },
   "outputs": [
    {
     "data": {
      "text/plain": [
       "Interval(1.0,Inf)"
      ]
     },
     "execution_count": 10,
     "metadata": {},
     "output_type": "execute_result"
    }
   ],
   "source": [
    "ExtendedDivision(x,y)"
   ]
  },
  {
   "cell_type": "markdown",
   "metadata": {},
   "source": [
    "$\\frac{[-1.0,2.0]}{[-1.0,0.0]}$"
   ]
  },
  {
   "cell_type": "code",
   "execution_count": 11,
   "metadata": {
    "collapsed": false
   },
   "outputs": [
    {
     "data": {
      "text/plain": [
       "Interval(-Inf,-1.0)"
      ]
     },
     "execution_count": 11,
     "metadata": {},
     "output_type": "execute_result"
    }
   ],
   "source": [
    "ExtendedDivision(x,z)"
   ]
  },
  {
   "cell_type": "markdown",
   "metadata": {},
   "source": [
    "$\\frac{[-1.0,2.0]}{[-1.0,1.0]}$"
   ]
  },
  {
   "cell_type": "code",
   "execution_count": 12,
   "metadata": {
    "collapsed": false
   },
   "outputs": [
    {
     "data": {
      "text/plain": [
       "2-element Array{Interval,1}:\n",
       " Interval(-Inf,-1.0)\n",
       " Interval(1.0,Inf)  "
      ]
     },
     "execution_count": 12,
     "metadata": {},
     "output_type": "execute_result"
    }
   ],
   "source": [
    "ExtendedDivision(x,w)"
   ]
  },
  {
   "cell_type": "markdown",
   "metadata": {},
   "source": [
    "[1] Escribe una función que calcule el operador de Newton para un intervalo $X$, dadas $f(x)$ y $f'(x)$.\n",
    "\n",
    "[2] Implementa el método de Newton para intervalos para encontrar las raíces de $f(x) = x^3 - 1$ a partir de $X=[-3,3]$. Muestra gráficamente la implementación del método. En cada iteración subsecuente del método, ilustra qué le pasa al diámetro de la refincación del intervalo que vas obteniendo.\n"
   ]
  },
  {
   "cell_type": "code",
   "execution_count": 73,
   "metadata": {
    "collapsed": false
   },
   "outputs": [
    {
     "data": {
      "text/plain": [
       "D (generic function with 2 methods)"
      ]
     },
     "execution_count": 73,
     "metadata": {},
     "output_type": "execute_result"
    }
   ],
   "source": [
    "F(x)=x^2-1.0\n",
    "function D(F::Function,x)\n",
    "    return F(NumDerive(x,1)).d\n",
    "end"
   ]
  },
  {
   "cell_type": "code",
   "execution_count": 59,
   "metadata": {
    "collapsed": false
   },
   "outputs": [
    {
     "data": {
      "text/plain": [
       "midpoint (generic function with 1 method)"
      ]
     },
     "execution_count": 59,
     "metadata": {},
     "output_type": "execute_result"
    }
   ],
   "source": [
    "function midpoint(N::Interval)\n",
    "    return (N.left+N.right)/2\n",
    "end"
   ]
  },
  {
   "cell_type": "code",
   "execution_count": 33,
   "metadata": {
    "collapsed": false
   },
   "outputs": [
    {
     "data": {
      "text/plain": [
       "NewtonOperator (generic function with 1 method)"
      ]
     },
     "execution_count": 33,
     "metadata": {},
     "output_type": "execute_result"
    }
   ],
   "source": [
    "function NewtonOperator(F::Function,N::Interval)\n",
    "    M=Interval(-midpoint(N),midpoint(N))\n",
    "    X=Interval(NumDerive(N.left,1.0).d, NumDerive(N.right,1.0).d)\n",
    "    return M-ExtendedDivision(F(M),F(X))\n",
    "end\n",
    "    "
   ]
  },
  {
   "cell_type": "markdown",
   "metadata": {},
   "source": [
    "[3] Usando tu implementación, *demuestra* que en el mismo intervalo $X=[-3,3]$ que $g(x) = x^2+1$ no tiene ninguna raíz. Ilustra gráficamente esto.\n",
    "\n",
    "Hint: En el caso en que $0\\in F'(x)$ las hipótesis del teorema no se cumplen. En ese caso hay que dividir el intervalo (bisección por ejemplo) y tratar de que las hipótesis del teorema se cumplan, para poder aplicarlo. Extiende tus funciones para que incluyan esta situación. En ese caso, cada subdivisión debe ser probada si puede o no tener una raíz."
   ]
  },
  {
   "cell_type": "markdown",
   "metadata": {},
   "source": [
    "[4] Considera la familia de polinomios de Wilkinson definidos por $W_n(x) = \\prod_{i=1}^n(x-i)$. Partiendo de un intervalo simétrico alrededor de cero, implementa el método de Newton para encontrar sus raíces, utilizando diferenciación automática."
   ]
  },
  {
   "cell_type": "markdown",
   "metadata": {},
   "source": [
    "## División extendida "
   ]
  },
  {
   "cell_type": "markdown",
   "metadata": {},
   "source": [
    "Hasta ahora, sólo hemos podido tratar el caso en el cual la derivada $F'(X)$ no contiene $0$. Sin embargo, resulta que es posible tratar también este caso, mediante \"división extendida\".\n",
    "\n",
    "[5] Supón que $F'(X)$ sea un intervalo, digamos $F'(X) = [-a, b]$, que contiene $0$ (con $a, b > 0$). \n",
    "\n",
    "(i) Definiendo $1/A$ como el conjunto $\\{1/x: x \\in A \\}$, evalúa $1/F'(X)$. \n",
    "\n",
    "(ii) Define una función que implementa esta \"división extendida\" de intervalos (o, más bien, inversa extendida).\n",
    "\n",
    "[6] Resulta que el método de Newton sigue funcionando si utilizamos esta división extendida cuándo sea apropiado. Impleméntalo para encontrar *todas* las raíces de una función en un intervalo dado.\n",
    "\n",
    "Nota que hay casos en los cuales no ocurre ninguna de las posibilidades (1) ni (2) en el teorema del método de Newton para intervalos. ¿Qué se puede hacer en este caso?\n",
    "\n",
    "[7] Implementa pruebas (tests) para tu código."
   ]
  }
 ],
 "metadata": {
  "kernelspec": {
   "display_name": "Julia 0.3.6",
   "language": "julia",
   "name": "julia 0.3"
  },
  "language_info": {
   "name": "julia",
   "version": "0.3.6"
  }
 },
 "nbformat": 4,
 "nbformat_minor": 0
}
