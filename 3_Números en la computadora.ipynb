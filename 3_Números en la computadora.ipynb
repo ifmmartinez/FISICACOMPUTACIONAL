{
 "metadata": {
  "kernelspec": {
   "codemirror_mode": "julia",
   "display_name": "Julia",
   "language": "julia",
   "name": "julia"
  },
  "language": "Julia",
  "name": "",
  "signature": "sha256:8f6cfd495cdee4f33456d7eaa78ae29594007a6052434984884252f8a66154af"
 },
 "nbformat": 3,
 "nbformat_minor": 0,
 "worksheets": [
  {
   "cells": [
    {
     "cell_type": "heading",
     "level": 1,
     "metadata": {},
     "source": [
      "1. REPRESENTACI\u00d3N DE N\u00daMEROS ENTEROS"
     ]
    },
    {
     "cell_type": "heading",
     "level": 2,
     "metadata": {},
     "source": [
      "    1.1. BINARIO A ENTERO"
     ]
    },
    {
     "cell_type": "markdown",
     "metadata": {},
     "source": [
      "Para encontrar el equivalente de un n\u00famero binario a un n\u00famero entero (base 10) es necesario saber la equivalencia de la posici\u00f3n dentro n\u00famero, es decir, para el n\u00famero $110010$\n",
      "\n",
      "$110010 =1\\times2^5 + 1\\times2^4 + 0\\times2^3 + 0\\times2^2 + 1\\times2^1 + 0\\times2^0$"
     ]
    },
    {
     "cell_type": "markdown",
     "metadata": {},
     "source": [
      "La funci\u00f3n binario(x) toma una cadena (ASCIIString) con un n\u00famero base dos (binario) y despliega su equivalente en base 10 (Int64)"
     ]
    },
    {
     "cell_type": "code",
     "collapsed": false,
     "input": [
      "function binario(x) \n",
      "    \n",
      "    m=0 #inicializa la variable\n",
      "    \n",
      "    for i in 1:length(x) #repetir\u00e1 el c\u00e1lculo length(x) veces\n",
      "\n",
      "        if x[i]=='1' #comparar\u00e1 los caracteres de la cadena proporcionada, uno a uno\n",
      "            n=2^(length(x)-i)\n",
      "            m+=n\n",
      "        end\n",
      "\n",
      "    end\n",
      "    ent=m\n",
      "end"
     ],
     "language": "python",
     "metadata": {},
     "outputs": [
      {
       "metadata": {},
       "output_type": "pyout",
       "prompt_number": 37,
       "text": [
        "binario (generic function with 1 method)"
       ]
      }
     ],
     "prompt_number": 37
    },
    {
     "cell_type": "code",
     "collapsed": false,
     "input": [
      "binario(\"110010\")"
     ],
     "language": "python",
     "metadata": {},
     "outputs": [
      {
       "metadata": {},
       "output_type": "pyout",
       "prompt_number": 38,
       "text": [
        "50"
       ]
      }
     ],
     "prompt_number": 38
    },
    {
     "cell_type": "heading",
     "level": 1,
     "metadata": {},
     "source": [
      "1.2 ENTERO A BINARIO"
     ]
    },
    {
     "cell_type": "markdown",
     "metadata": {},
     "source": [
      "Para encontrar el n\u00famero binario equivalente a un n\u00famero decimal es necesario hacer el siguiente algoritmo\n",
      "por ejemplo, para el n\u00famero $50$:\n",
      "\n",
      "\n",
      "$50/2 = 25$ residuo $0$\n"
     ]
    },
    {
     "cell_type": "markdown",
     "metadata": {},
     "source": [
      "$25/2 = 12$ residuo $1$\n"
     ]
    },
    {
     "cell_type": "markdown",
     "metadata": {},
     "source": [
      "$12/2 =  6$ residuo $0$\n"
     ]
    },
    {
     "cell_type": "markdown",
     "metadata": {},
     "source": [
      "$6/2  =  3$ residuo $0$\n"
     ]
    },
    {
     "cell_type": "markdown",
     "metadata": {},
     "source": [
      "$3/2  =  1$ residuo $1$\n"
     ]
    },
    {
     "cell_type": "markdown",
     "metadata": {},
     "source": [
      "residuo $1$\n"
     ]
    },
    {
     "cell_type": "markdown",
     "metadata": {},
     "source": [
      "Donde el resultado es el n\u00famero binario que se puede apreciar en los residuos, visto de abajo hacia arriba, es decir \"$110010$\""
     ]
    },
    {
     "cell_type": "markdown",
     "metadata": {},
     "source": [
      "La funci\u00f3n binarizar(x) toma un n\u00famero base 10 (Int64) y despliega su equivalente en una cadena (ASCIIString) base 2 (binario)"
     ]
    },
    {
     "cell_type": "code",
     "collapsed": false,
     "input": [
      "function binarizar(x)\n",
      "    \n",
      "    binario = string() #inicializa la varible\n",
      "       \n",
      "    while itrunc(x) != 0 #repetir\u00e1 el c\u00e1lculo mientr\u00e1s la condici\u00f3n se cumpla\n",
      "            residuo=x%2\n",
      "        binario = string(itrunc(residuo), binario)    #Note que los resultados de cada c\u00e1lculo se agregan desde la izquierda\n",
      "            x=x/2\n",
      "        end\n",
      "    \n",
      "    bin=string(binario)\n",
      "    \n",
      "end"
     ],
     "language": "python",
     "metadata": {},
     "outputs": [
      {
       "metadata": {},
       "output_type": "pyout",
       "prompt_number": 39,
       "text": [
        "binarizar (generic function with 1 method)"
       ]
      }
     ],
     "prompt_number": 39
    },
    {
     "cell_type": "code",
     "collapsed": false,
     "input": [
      "binarizar(50)"
     ],
     "language": "python",
     "metadata": {},
     "outputs": [
      {
       "metadata": {},
       "output_type": "pyout",
       "prompt_number": 40,
       "text": [
        "\"110010\""
       ]
      }
     ],
     "prompt_number": 40
    },
    {
     "cell_type": "code",
     "collapsed": false,
     "input": [
      "bits(50)"
     ],
     "language": "python",
     "metadata": {},
     "outputs": [
      {
       "metadata": {},
       "output_type": "pyout",
       "prompt_number": 34,
       "text": [
        "\"0000000000000000000000000000000000000000000000000000000000110010\""
       ]
      }
     ],
     "prompt_number": 34
    },
    {
     "cell_type": "heading",
     "level": 1,
     "metadata": {},
     "source": [
      "2. REPRESENTACI\u00d3N DE N\u00daMEROS REALES"
     ]
    },
    {
     "cell_type": "markdown",
     "metadata": {},
     "source": [
      "Un n\u00famero con punto decimal $d=31.4159$"
     ]
    },
    {
     "cell_type": "markdown",
     "metadata": {},
     "source": [
      "$31.4159 =3\\times10^1 + 1\\times10^0 + 4\\times10^{-1} + 1\\times10^{-2} + 5\\times10^{-3} + 9\\times10^{-4}$"
     ]
    },
    {
     "cell_type": "markdown",
     "metadata": {},
     "source": [
      "Sin embargo para un n\u00famero binario $b=101.0101$\n"
     ]
    },
    {
     "cell_type": "markdown",
     "metadata": {},
     "source": [
      "$1011.0101 =1\\times2^3 + 0\\times2^2 + 1\\times2^{1} + 1\\times2^{0} + 0\\times2^{-1} + 1\\times2^{-2} + 0\\times2^{-3} + 1\\times2^{-4}$"
     ]
    },
    {
     "cell_type": "heading",
     "level": 2,
     "metadata": {},
     "source": [
      "2.1 BINARIO A FLOTANTE"
     ]
    },
    {
     "cell_type": "code",
     "collapsed": false,
     "input": [
      "function ParteEntera(x) # Quita la parte despues del \"punto binario\"\n",
      "    punto=search(x, '.')\n",
      "    m=0\n",
      "    ent=\"\"\n",
      "        for i in 1:punto-1\n",
      "            binint=x[i]\n",
      "            ent=string(ent, binint)\n",
      "        end\n",
      "    m=ent # Resultado binario (todos los d\u00edgitos antes del punto)\n",
      "    binario(m) # N\u00famero decimal equivalete a la parte entera del n\u00famero binario\n",
      "end"
     ],
     "language": "python",
     "metadata": {},
     "outputs": [
      {
       "metadata": {},
       "output_type": "pyout",
       "prompt_number": 41,
       "text": [
        "ParteEntera (generic function with 1 method)"
       ]
      }
     ],
     "prompt_number": 41
    },
    {
     "cell_type": "code",
     "collapsed": false,
     "input": [
      "ParteEntera(\"100.0101\")"
     ],
     "language": "python",
     "metadata": {},
     "outputs": [
      {
       "metadata": {},
       "output_type": "pyout",
       "prompt_number": 42,
       "text": [
        "4"
       ]
      }
     ],
     "prompt_number": 42
    },
    {
     "cell_type": "code",
     "collapsed": false,
     "input": [
      "function ParteFracc(x) # Extrae la parte despu\u00e9s del \"punto binario\"\n",
      "    punto=search(x, '.')\n",
      "        m=0\n",
      "        ent=\"\"\n",
      "            for i in punto+1:endof(x)\n",
      "                binint=x[i]\n",
      "                ent=string(ent, binint)\n",
      "            end\n",
      "        m=ent # Resultado binario (todos los d\u00edgitos antes del punto)\n",
      "end"
     ],
     "language": "python",
     "metadata": {},
     "outputs": [
      {
       "metadata": {},
       "output_type": "pyout",
       "prompt_number": 43,
       "text": [
        "ParteFracc (generic function with 1 method)"
       ]
      }
     ],
     "prompt_number": 43
    },
    {
     "cell_type": "code",
     "collapsed": false,
     "input": [
      "ParteFracc(\"100.0101\")"
     ],
     "language": "python",
     "metadata": {},
     "outputs": [
      {
       "metadata": {},
       "output_type": "pyout",
       "prompt_number": 44,
       "text": [
        "\"0101\""
       ]
      }
     ],
     "prompt_number": 44
    },
    {
     "cell_type": "code",
     "collapsed": false,
     "input": [
      "function ParteFraccDec(x) #Convierte la parte despu\u00e9s del \"punto binario\" en un flotante\n",
      "    p=0\n",
      "        for i in 1:length(ParteFracc(x))\n",
      "            if ParteFracc(x)[i]=='1'\n",
      "                n=2.0^(-i)\n",
      "                p+=n\n",
      "            end\n",
      "        end\n",
      "    f=p\n",
      "end"
     ],
     "language": "python",
     "metadata": {},
     "outputs": [
      {
       "metadata": {},
       "output_type": "pyout",
       "prompt_number": 45,
       "text": [
        "ParteFraccDec (generic function with 1 method)"
       ]
      }
     ],
     "prompt_number": 45
    },
    {
     "cell_type": "code",
     "collapsed": false,
     "input": [
      "function Bin2Float(x) #Suma la parte binaria entera y la parte despu\u00e9s del punto (pero ya convertidas en flotantes)\n",
      "    z=ParteEntera(x) + ParteFraccDec(x)\n",
      "end"
     ],
     "language": "python",
     "metadata": {},
     "outputs": [
      {
       "metadata": {},
       "output_type": "pyout",
       "prompt_number": 46,
       "text": [
        "Bin2Float (generic function with 1 method)"
       ]
      }
     ],
     "prompt_number": 46
    },
    {
     "cell_type": "heading",
     "level": 2,
     "metadata": {},
     "source": [
      "2. 2 FLOTANTE A BINARIO"
     ]
    },
    {
     "cell_type": "markdown",
     "metadata": {},
     "source": [
      "El algoritmo para convertir un n\u00famero flotante a un n\u00famero binario es el mismo para la parte entera, sin embargo para la parte fraccionaria cambia un poco, por ejemplo, para el n\u00famero $50.59$\n",
      "\n"
     ]
    },
    {
     "cell_type": "markdown",
     "metadata": {},
     "source": [
      "$50_{10}$ = $110010_{2}$"
     ]
    },
    {
     "cell_type": "markdown",
     "metadata": {},
     "source": [
      "y para $0.59$?"
     ]
    },
    {
     "cell_type": "markdown",
     "metadata": {},
     "source": [
      "$0.59 \\times 2 = 1.18$; parte entera $1$"
     ]
    },
    {
     "cell_type": "markdown",
     "metadata": {},
     "source": [
      "$0.18 \\times 2 = 0.36$; parte entera $0$"
     ]
    },
    {
     "cell_type": "markdown",
     "metadata": {},
     "source": [
      "$0.36 \\times 2 = 0.72$; parte entera $0$"
     ]
    },
    {
     "cell_type": "markdown",
     "metadata": {},
     "source": [
      "$0.72 \\times 2 = 1.44$; parte entera $1$"
     ]
    },
    {
     "cell_type": "markdown",
     "metadata": {},
     "source": [
      "$0.44 \\times 2 = 0.88$; parte entera $0$"
     ]
    },
    {
     "cell_type": "markdown",
     "metadata": {},
     "source": [
      "$0.88 \\times 2 = 1.76$; parte entera $1$"
     ]
    },
    {
     "cell_type": "markdown",
     "metadata": {},
     "source": [
      "$0.76 \\times 2 = 1.52$; parte entera $1$"
     ]
    },
    {
     "cell_type": "markdown",
     "metadata": {},
     "source": [
      "$0.52 \\times 2 = 1.04$; parte entera $1$"
     ]
    },
    {
     "cell_type": "markdown",
     "metadata": {},
     "source": [
      "Y puesto que n\u00famero que seguir\u00eda en la iteraci\u00f3n es $0.04$ las siguientes iteraciones otorgar\u00edan muchos $0$ antes de darnos un $1$, \n",
      "por lo tanto el n\u00famero $10010111_{2}$ es una buena aproximaci\u00f3n para $0.59_{2}$, y podemos comprobarlo con las funciones que ya programamos"
     ]
    },
    {
     "cell_type": "code",
     "collapsed": false,
     "input": [
      "Bin2Float(\"0.10010111\")"
     ],
     "language": "python",
     "metadata": {},
     "outputs": [
      {
       "metadata": {},
       "output_type": "pyout",
       "prompt_number": 47,
       "text": [
        "0.58984375"
       ]
      }
     ],
     "prompt_number": 47
    },
    {
     "cell_type": "code",
     "collapsed": false,
     "input": [
      "function ParteEnteraDec(x) # Quita la parte despues del \"punto decimal\"\n",
      "    punto=search(x, '.')\n",
      "    m=0\n",
      "    ent=\"\"\n",
      "        for i in 1:punto-1\n",
      "            binint=x[i]\n",
      "            ent=string(ent, binint)\n",
      "        end\n",
      "    m=int(ent) \n",
      "end"
     ],
     "language": "python",
     "metadata": {},
     "outputs": [
      {
       "metadata": {},
       "output_type": "pyout",
       "prompt_number": 48,
       "text": [
        "ParteEnteraDec (generic function with 1 method)"
       ]
      }
     ],
     "prompt_number": 48
    },
    {
     "cell_type": "code",
     "collapsed": false,
     "input": [
      "x=50.59\n",
      "y=ParteEnteraDec(string(x))"
     ],
     "language": "python",
     "metadata": {},
     "outputs": [
      {
       "metadata": {},
       "output_type": "pyout",
       "prompt_number": 49,
       "text": [
        "50"
       ]
      }
     ],
     "prompt_number": 49
    },
    {
     "cell_type": "code",
     "collapsed": false,
     "input": [
      "binarizar(y)"
     ],
     "language": "python",
     "metadata": {},
     "outputs": [
      {
       "metadata": {},
       "output_type": "pyout",
       "prompt_number": 50,
       "text": [
        "\"110010\""
       ]
      }
     ],
     "prompt_number": 50
    },
    {
     "cell_type": "markdown",
     "metadata": {},
     "source": [
      "Para la parte despues del punto decimal"
     ]
    },
    {
     "cell_type": "code",
     "collapsed": false,
     "input": [
      "function ParteFraccDec(x) #Algoritmo mostrado en markdown anteriormente\n",
      "    entero=\"\" \n",
      "    while x>0.01 #La precisi\u00f3n del c\u00e1lculo recae en que tan peque\u00f1a es la cota\n",
      "      z=x*2\n",
      "      partentera=itrunc(z)\n",
      "      entero=string(entero, partentera)\n",
      "      x=z-partentera\n",
      "    end\n",
      "    fraccbin=string(entero)\n",
      "end"
     ],
     "language": "python",
     "metadata": {},
     "outputs": [
      {
       "metadata": {},
       "output_type": "pyout",
       "prompt_number": 51,
       "text": [
        "ParteFraccDec (generic function with 1 method)"
       ]
      }
     ],
     "prompt_number": 51
    },
    {
     "cell_type": "code",
     "collapsed": false,
     "input": [
      "ParteFraccDec(0.59)"
     ],
     "language": "python",
     "metadata": {},
     "outputs": [
      {
       "metadata": {},
       "output_type": "pyout",
       "prompt_number": 52,
       "text": [
        "\"10010111000010100011110101110000101000111101011100001\""
       ]
      }
     ],
     "prompt_number": 52
    },
    {
     "cell_type": "code",
     "collapsed": false,
     "input": [
      "function Float2Bin(x)\n",
      "    y=ParteEnteraDec(string(x))\n",
      "    k=x-itrunc(x)\n",
      "    c=string(binarizar(y), '.', ParteFraccDec(k))\n",
      "end"
     ],
     "language": "python",
     "metadata": {},
     "outputs": [
      {
       "metadata": {},
       "output_type": "pyout",
       "prompt_number": 53,
       "text": [
        "Float2Bin (generic function with 1 method)"
       ]
      }
     ],
     "prompt_number": 53
    },
    {
     "cell_type": "code",
     "collapsed": false,
     "input": [
      "Float2Bin(50.59)"
     ],
     "language": "python",
     "metadata": {},
     "outputs": [
      {
       "metadata": {},
       "output_type": "pyout",
       "prompt_number": 54,
       "text": [
        "\"110010.100101110000101000111101011100001010001111011\""
       ]
      }
     ],
     "prompt_number": 54
    },
    {
     "cell_type": "code",
     "collapsed": false,
     "input": [
      "Bin2Float(ans)"
     ],
     "language": "python",
     "metadata": {},
     "outputs": [
      {
       "metadata": {},
       "output_type": "pyout",
       "prompt_number": 55,
       "text": [
        "50.59"
       ]
      }
     ],
     "prompt_number": 55
    },
    {
     "cell_type": "code",
     "collapsed": false,
     "input": [
      "Float2Bin(0.1)"
     ],
     "language": "python",
     "metadata": {},
     "outputs": [
      {
       "metadata": {},
       "output_type": "pyout",
       "prompt_number": 56,
       "text": [
        "\".0001100110011001100110011001100110011001100110011001101\""
       ]
      }
     ],
     "prompt_number": 56
    },
    {
     "cell_type": "heading",
     "level": 1,
     "metadata": {},
     "source": [
      "3. REPRESENTACI\u00d3N DE PUNTO FLOTANTE"
     ]
    },
    {
     "cell_type": "code",
     "collapsed": false,
     "input": [
      "bits(1.0)"
     ],
     "language": "python",
     "metadata": {},
     "outputs": [
      {
       "metadata": {},
       "output_type": "pyout",
       "prompt_number": 87,
       "text": [
        "\"0011111111110000000000000000000000000000000000000000000000000000\""
       ]
      }
     ],
     "prompt_number": 87
    },
    {
     "cell_type": "code",
     "collapsed": false,
     "input": [
      "bits(1/2)"
     ],
     "language": "python",
     "metadata": {},
     "outputs": [
      {
       "metadata": {},
       "output_type": "pyout",
       "prompt_number": 89,
       "text": [
        "\"0011111111100000000000000000000000000000000000000000000000000000\""
       ]
      }
     ],
     "prompt_number": 89
    },
    {
     "cell_type": "code",
     "collapsed": false,
     "input": [
      "bits(1/4)"
     ],
     "language": "python",
     "metadata": {},
     "outputs": [
      {
       "metadata": {},
       "output_type": "pyout",
       "prompt_number": 90,
       "text": [
        "\"0011111111010000000000000000000000000000000000000000000000000000\""
       ]
      }
     ],
     "prompt_number": 90
    },
    {
     "cell_type": "code",
     "collapsed": false,
     "input": [
      "bits(2.0)"
     ],
     "language": "python",
     "metadata": {},
     "outputs": [
      {
       "metadata": {},
       "output_type": "pyout",
       "prompt_number": 93,
       "text": [
        "\"0100000000000000000000000000000000000000000000000000000000000000\""
       ]
      }
     ],
     "prompt_number": 93
    },
    {
     "cell_type": "code",
     "collapsed": false,
     "input": [
      "bits(-2.0)"
     ],
     "language": "python",
     "metadata": {},
     "outputs": [
      {
       "metadata": {},
       "output_type": "pyout",
       "prompt_number": 94,
       "text": [
        "\"1100000000000000000000000000000000000000000000000000000000000000\""
       ]
      }
     ],
     "prompt_number": 94
    },
    {
     "cell_type": "code",
     "collapsed": false,
     "input": [
      "bits(0.1)"
     ],
     "language": "python",
     "metadata": {},
     "outputs": [
      {
       "metadata": {},
       "output_type": "pyout",
       "prompt_number": 95,
       "text": [
        "\"0011111110111001100110011001100110011001100110011001100110011010\""
       ]
      }
     ],
     "prompt_number": 95
    },
    {
     "cell_type": "code",
     "collapsed": false,
     "input": [
      "bits(0.2)"
     ],
     "language": "python",
     "metadata": {},
     "outputs": [
      {
       "metadata": {},
       "output_type": "pyout",
       "prompt_number": 96,
       "text": [
        "\"0011111111001001100110011001100110011001100110011001100110011010\""
       ]
      }
     ],
     "prompt_number": 96
    },
    {
     "cell_type": "code",
     "collapsed": false,
     "input": [
      "bits(0.4)"
     ],
     "language": "python",
     "metadata": {},
     "outputs": [
      {
       "metadata": {},
       "output_type": "pyout",
       "prompt_number": 97,
       "text": [
        "\"0011111111011001100110011001100110011001100110011001100110011010\""
       ]
      }
     ],
     "prompt_number": 97
    },
    {
     "cell_type": "code",
     "collapsed": false,
     "input": [
      "bits(3.14159)"
     ],
     "language": "python",
     "metadata": {},
     "outputs": [
      {
       "metadata": {},
       "output_type": "pyout",
       "prompt_number": 98,
       "text": [
        "\"0100000000001001001000011111100111110000000110111000011001101110\""
       ]
      }
     ],
     "prompt_number": 98
    },
    {
     "cell_type": "code",
     "collapsed": false,
     "input": [
      "bits(31.4159)"
     ],
     "language": "python",
     "metadata": {},
     "outputs": [
      {
       "metadata": {},
       "output_type": "pyout",
       "prompt_number": 100,
       "text": [
        "\"0100000000111111011010100111100001101100001000100110100000001010\""
       ]
      }
     ],
     "prompt_number": 100
    },
    {
     "cell_type": "heading",
     "level": 1,
     "metadata": {},
     "source": [
      "EJERCICIO 5. NOTEBOOK 4"
     ]
    },
    {
     "cell_type": "code",
     "collapsed": false,
     "input": [
      "y=\"1.1011\"\n",
      "x=Bin2Float(y)"
     ],
     "language": "python",
     "metadata": {},
     "outputs": [
      {
       "metadata": {},
       "output_type": "pyout",
       "prompt_number": 120,
       "text": [
        "1.6875"
       ]
      }
     ],
     "prompt_number": 120
    },
    {
     "cell_type": "code",
     "collapsed": false,
     "input": [
      "function comparar(x)\n",
      "    println(Float2Bin(x))\n",
      "    println(bits(x))\n",
      "end"
     ],
     "language": "python",
     "metadata": {},
     "outputs": [
      {
       "metadata": {},
       "output_type": "pyout",
       "prompt_number": 98,
       "text": [
        "comparar (generic function with 1 method)"
       ]
      }
     ],
     "prompt_number": 98
    },
    {
     "cell_type": "code",
     "collapsed": false,
     "input": [
      "comparar(x)"
     ],
     "language": "python",
     "metadata": {},
     "outputs": [
      {
       "output_type": "stream",
       "stream": "stdout",
       "text": [
        "1.1011\n",
        "0011111111111011000000000000000000000000000000000000000000000000\n"
       ]
      }
     ],
     "prompt_number": 121
    },
    {
     "cell_type": "heading",
     "level": 1,
     "metadata": {},
     "source": [
      "EJERCICIO 6. NOTEBOOK 4"
     ]
    },
    {
     "cell_type": "code",
     "collapsed": false,
     "input": [
      "x=1.00000100000000000000000000000000000000000000000000000"
     ],
     "language": "python",
     "metadata": {},
     "outputs": [
      {
       "metadata": {},
       "output_type": "pyout",
       "prompt_number": 148,
       "text": [
        "1.000001"
       ]
      }
     ],
     "prompt_number": 148
    },
    {
     "cell_type": "code",
     "collapsed": false,
     "input": [
      "y=1.00001100000000000000000000000000000000000000000000000"
     ],
     "language": "python",
     "metadata": {},
     "outputs": [
      {
       "metadata": {},
       "output_type": "pyout",
       "prompt_number": 149,
       "text": [
        "1.000011"
       ]
      }
     ],
     "prompt_number": 149
    },
    {
     "cell_type": "code",
     "collapsed": false,
     "input": [
      "z=y-x\n",
      "Float2Bin(z)"
     ],
     "language": "python",
     "metadata": {},
     "outputs": [
      {
       "metadata": {},
       "output_type": "pyout",
       "prompt_number": 151,
       "text": [
        "\"1.\""
       ]
      }
     ],
     "prompt_number": 151
    },
    {
     "cell_type": "code",
     "collapsed": false,
     "input": [
      "Float2Bin(y)"
     ],
     "language": "python",
     "metadata": {},
     "outputs": [
      {
       "metadata": {},
       "output_type": "pyout",
       "prompt_number": 146,
       "text": [
        "\"1.\""
       ]
      }
     ],
     "prompt_number": 146
    },
    {
     "cell_type": "code",
     "collapsed": false,
     "input": [
      "bits(y-x)"
     ],
     "language": "python",
     "metadata": {},
     "outputs": [
      {
       "metadata": {},
       "output_type": "pyout",
       "prompt_number": 154,
       "text": [
        "\"0011111011100100111110001011010110001000111001000000000000000000\""
       ]
      }
     ],
     "prompt_number": 154
    },
    {
     "cell_type": "code",
     "collapsed": false,
     "input": [
      "y-x"
     ],
     "language": "python",
     "metadata": {},
     "outputs": [
      {
       "metadata": {},
       "output_type": "pyout",
       "prompt_number": 155,
       "text": [
        "1.0000000000065512e-5"
       ]
      }
     ],
     "prompt_number": 155
    },
    {
     "cell_type": "code",
     "collapsed": false,
     "input": [],
     "language": "python",
     "metadata": {},
     "outputs": []
    }
   ],
   "metadata": {}
  }
 ]
}