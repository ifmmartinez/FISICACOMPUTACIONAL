{
 "cells": [
  {
   "cell_type": "markdown",
   "metadata": {},
   "source": [
    "#Tipos compósitos"
   ]
  },
  {
   "cell_type": "markdown",
   "metadata": {},
   "source": [
    "\n",
    "[1] (i) ¿Cómo representarías a una partícula en 1D con posición, velocidad y masa en Julia?\n",
    "\n",
    "(ii) ¿Cómo moverías la partícula en un paso $δt$?\n",
    "\n",
    "(iii) ¿Si necesitas otra partícula con las mismas propiedades, qué harías?\n",
    "\n",
    "(iv) Para $N$ tales partículas, ¿qué podrías hacer?\n",
    "\n",
    "El problema aquí es que la representación del concepto \"partícula\" está repartida en distintas variables. Julia provee una manera de recolectar la información de un \"objeto\", al definir un tipo compósito (\"composite type\"):"
   ]
  },
  {
   "cell_type": "code",
   "execution_count": 1,
   "metadata": {
    "collapsed": true
   },
   "outputs": [],
   "source": [
    "type MiTipo\n",
    "    a\n",
    "    b::Int\n",
    "end"
   ]
  },
  {
   "cell_type": "markdown",
   "metadata": {},
   "source": [
    "\n",
    "Esto define un tipo de objeto llamado MiTipo. Cada objeto de este tipo tendrá adentro su propia copia de una variable llamada a y otra llamada b. En este caso, no hemos especificado ningún tipo para a, mientras que b está forzado a tener el tipo Int.\n",
    "\n",
    "[En general, en Julia, para anotar a una variable con un tipo dado, usamos esta notación con ::.]"
   ]
  },
  {
   "cell_type": "markdown",
   "metadata": {},
   "source": [
    "\n",
    "[2] Define un tipo que se llama Particula, que tiene variables para la posición, velocidad y masa en una dimensión."
   ]
  },
  {
   "cell_type": "code",
   "execution_count": 2,
   "metadata": {
    "collapsed": true
   },
   "outputs": [],
   "source": [
    "type Particula\n",
    "    pos\n",
    "    vel\n",
    "    mass\n",
    "end"
   ]
  },
  {
   "cell_type": "markdown",
   "metadata": {},
   "source": [
    "[3] Experimenta para ver cómo crear un objeto de tipo Particula. [Pista: piensa en funciones]"
   ]
  },
  {
   "cell_type": "code",
   "execution_count": 3,
   "metadata": {
    "collapsed": false
   },
   "outputs": [
    {
     "data": {
      "text/plain": [
       "Particula(0,10,1)"
      ]
     },
     "execution_count": 3,
     "metadata": {},
     "output_type": "execute_result"
    }
   ],
   "source": [
    "Particula1 = Particula(0,10,1)"
   ]
  },
  {
   "cell_type": "code",
   "execution_count": 5,
   "metadata": {
    "collapsed": false
   },
   "outputs": [
    {
     "data": {
      "text/plain": [
       "0"
      ]
     },
     "execution_count": 5,
     "metadata": {},
     "output_type": "execute_result"
    }
   ],
   "source": [
    "Particula1.pos"
   ]
  },
  {
   "cell_type": "code",
   "execution_count": 6,
   "metadata": {
    "collapsed": false
   },
   "outputs": [
    {
     "data": {
      "text/plain": [
       "10"
      ]
     },
     "execution_count": 6,
     "metadata": {},
     "output_type": "execute_result"
    }
   ],
   "source": [
    "Particula1.vel"
   ]
  },
  {
   "cell_type": "code",
   "execution_count": 7,
   "metadata": {
    "collapsed": false
   },
   "outputs": [
    {
     "data": {
      "text/plain": [
       "1"
      ]
     },
     "execution_count": 7,
     "metadata": {},
     "output_type": "execute_result"
    }
   ],
   "source": [
    "Particula1.mass"
   ]
  },
  {
   "cell_type": "markdown",
   "metadata": {},
   "source": [
    "\n",
    "[4] ¿Cómo podemos definir una función mover que mueve la partícula en un paso de tiempo $δt$? [Pista: Para especificar que un objeto t es de tipo MiTipo, usamos la sintaxis t::MiTipo.]"
   ]
  },
  {
   "cell_type": "code",
   "execution_count": 8,
   "metadata": {
    "collapsed": false
   },
   "outputs": [
    {
     "data": {
      "text/plain": [
       "Evolucion (generic function with 1 method)"
      ]
     },
     "execution_count": 8,
     "metadata": {},
     "output_type": "execute_result"
    }
   ],
   "source": [
    "function Evolucion(p::Particula, t)\n",
    "    p.pos=p.pos+p.vel*t\n",
    "end\n",
    "    "
   ]
  },
  {
   "cell_type": "code",
   "execution_count": 9,
   "metadata": {
    "collapsed": false
   },
   "outputs": [
    {
     "data": {
      "text/plain": [
       "10"
      ]
     },
     "execution_count": 9,
     "metadata": {},
     "output_type": "execute_result"
    }
   ],
   "source": [
    "Evolucion(Particula1,1)"
   ]
  },
  {
   "cell_type": "code",
   "execution_count": 10,
   "metadata": {
    "collapsed": false
   },
   "outputs": [
    {
     "data": {
      "text/plain": [
       "10"
      ]
     },
     "execution_count": 10,
     "metadata": {},
     "output_type": "execute_result"
    }
   ],
   "source": [
    "Particula1.pos"
   ]
  },
  {
   "cell_type": "code",
   "execution_count": 11,
   "metadata": {
    "collapsed": false
   },
   "outputs": [
    {
     "data": {
      "text/plain": [
       "60"
      ]
     },
     "execution_count": 11,
     "metadata": {},
     "output_type": "execute_result"
    }
   ],
   "source": [
    "Evolucion(Particula1,5)"
   ]
  },
  {
   "cell_type": "code",
   "execution_count": 12,
   "metadata": {
    "collapsed": false
   },
   "outputs": [
    {
     "data": {
      "text/plain": [
       "60"
      ]
     },
     "execution_count": 12,
     "metadata": {},
     "output_type": "execute_result"
    }
   ],
   "source": [
    "Particula1.pos"
   ]
  },
  {
   "cell_type": "markdown",
   "metadata": {},
   "source": [
    "[5] Define un objeto Gas que representa N partículas, así como una función mover que mueve el gas."
   ]
  },
  {
   "cell_type": "code",
   "execution_count": 27,
   "metadata": {
    "collapsed": false
   },
   "outputs": [
    {
     "data": {
      "text/plain": [
       "10-element Array{Float64,1}:\n",
       " 1.0\n",
       " 1.0\n",
       " 1.0\n",
       " 1.0\n",
       " 1.0\n",
       " 1.0\n",
       " 1.0\n",
       " 1.0\n",
       " 1.0\n",
       " 1.0"
      ]
     },
     "execution_count": 27,
     "metadata": {},
     "output_type": "execute_result"
    }
   ],
   "source": [
    "N=10\n",
    "x=rand(N) #genera números aleatorios en (0,1]\n",
    "v=randn(N) #genera números aleatorios normalmente distribuidos\n",
    "m=ones(N) #genera un arreglo de N números uno"
   ]
  },
  {
   "cell_type": "code",
   "execution_count": 28,
   "metadata": {
    "collapsed": true
   },
   "outputs": [],
   "source": [
    "type Gas\n",
    "    pos\n",
    "    vel\n",
    "    mass\n",
    "end"
   ]
  },
  {
   "cell_type": "code",
   "execution_count": 29,
   "metadata": {
    "collapsed": false
   },
   "outputs": [
    {
     "data": {
      "text/plain": [
       "Gas([0.515711,0.66478,0.529627,0.789005,0.914699,0.945379,0.851076,0.908246,0.182886,0.520719],[1.72722,-0.918536,-0.153182,0.493095,-0.331469,-0.268524,0.0281345,1.65517,-0.354399,-0.128096],[1.0,1.0,1.0,1.0,1.0,1.0,1.0,1.0,1.0,1.0])"
      ]
     },
     "execution_count": 29,
     "metadata": {},
     "output_type": "execute_result"
    }
   ],
   "source": [
    "Gas1 = Gas(x,v,m)"
   ]
  },
  {
   "cell_type": "code",
   "execution_count": 30,
   "metadata": {
    "collapsed": false
   },
   "outputs": [
    {
     "data": {
      "text/plain": [
       "EvoluciónGas (generic function with 1 method)"
      ]
     },
     "execution_count": 30,
     "metadata": {},
     "output_type": "execute_result"
    }
   ],
   "source": [
    "function EvoluciónGas(g::Gas,t)\n",
    "    for i=1:length(g.pos)\n",
    "        g.pos[i]=g.pos[i]+g.vel[i]*t\n",
    "    end\n",
    "end"
   ]
  },
  {
   "cell_type": "code",
   "execution_count": 25,
   "metadata": {
    "collapsed": false
   },
   "outputs": [
    {
     "name": "stdout",
     "output_type": "stream",
     "text": [
      "0.9216523211683814\n",
      "0.47507443615976785\n",
      "0.3611463005473541\n",
      "0.6980810032563385\n",
      "0.34277542413542506\n",
      "0.1861560391263548\n",
      "0.4132509722308073\n",
      "0.12357361406326661\n",
      "0.922529432248032\n",
      "0.5818966950009183\n"
     ]
    }
   ],
   "source": [
    "for i=1:10 #POSICIÓN INICIAL DE LAS PARTICULAS DEL GAS\n",
    "    Gas1.pos[i]\n",
    "    println(Gas1.pos[i])\n",
    "end\n"
   ]
  },
  {
   "cell_type": "code",
   "execution_count": 31,
   "metadata": {
    "collapsed": false,
    "scrolled": true
   },
   "outputs": [
    {
     "name": "stdout",
     "output_type": "stream",
     "text": [
      "1.7272192486825049\n",
      "-0.9185359369851251\n",
      "-0.15318162779620062\n",
      "0.4930951127281489\n",
      "-0.3314688141156603\n",
      "-0.2685240291067664\n",
      "0.028134526665148953\n",
      "1.6551748095983865\n",
      "-0.3543985808231926\n",
      "-0.12809608790531993\n"
     ]
    }
   ],
   "source": [
    "for i=1:10 #VELOCIDAD DE LAS PARTICULAS DEL GAS\n",
    "    Gas1.vel[i]\n",
    "    println(Gas1.vel[i])\n",
    "end"
   ]
  },
  {
   "cell_type": "code",
   "execution_count": 32,
   "metadata": {
    "collapsed": true
   },
   "outputs": [],
   "source": [
    "EvoluciónGas(Gas1,1)"
   ]
  },
  {
   "cell_type": "code",
   "execution_count": 33,
   "metadata": {
    "collapsed": false
   },
   "outputs": [
    {
     "name": "stdout",
     "output_type": "stream",
     "text": [
      "2.2429305866733165\n",
      "-0.2537562853629891\n",
      "0.37644545321087697\n",
      "1.2821000512370848\n",
      "0.5832301583319415\n",
      "0.676855047663499\n",
      "0.8792106461609972\n",
      "2.563420637241763\n",
      "-0.17151247694157007\n",
      "0.3926229174058322\n"
     ]
    }
   ],
   "source": [
    "for i=1:10 #POSICION FINAL\n",
    "    Gas1.pos[i]\n",
    "    println(Gas1.pos[i])\n",
    "end"
   ]
  },
  {
   "cell_type": "markdown",
   "metadata": {},
   "source": [
    "[6] Considera una estructura compósita que denotaré $\\overline{v}=(f_v,d_v)$ conste de dos campos $f_v$ y $d_v$. Esta estructura está definida de tal manera que se cumplen las siguientes propiedades:\n"
   ]
  },
  {
   "cell_type": "markdown",
   "metadata": {},
   "source": [
    "\\begin{align}\n",
    "{\\overline c} &= (c,\\,0), &\\textrm{ para toda constante $c$},\\\\\n",
    "{\\overline x} &= (x_0,\\,1), &\\textrm{para toda variable independiente $x = x_0$},\\\\\n",
    "c {\\overline v} &= {\\overline c}\\, {\\overline v} = (c f_v,\\, c d_v), \\\\\n",
    "{\\overline v} \\pm {\\overline w} & =  (f_v \\pm f_w,\\, d_v \\pm d_w),\\\\\n",
    "{\\overline v} \\cdot {\\overline w} & =  (f_v \\cdot f_w,\\, f_v \\cdot d_w + d_v \\cdot f_w),\\\\\n",
    "\\frac{{\\overline v}}{{\\overline w}} & =  \n",
    "\\left( \\frac{f_v}{f_w},\\, \\frac{d_v \\cdot f_w - f_v \\cdot d_w}{f_w^2} \\right),\\\\\n",
    "{\\overline u}^\\alpha &= (f_u^\\alpha,\\, \\alpha f_u^{\\alpha-1} d_u), &\\textrm{donde $\\alpha$ \n",
    "es un número real}.\n",
    "\\end{align}"
   ]
  },
  {
   "cell_type": "markdown",
   "metadata": {},
   "source": [
    "i. Implementa esto usando julia."
   ]
  },
  {
   "cell_type": "code",
   "execution_count": 1,
   "metadata": {
    "collapsed": false
   },
   "outputs": [],
   "source": [
    "type vector\n",
    "    funcion\n",
    "    derivada\n",
    "end"
   ]
  },
  {
   "cell_type": "code",
   "execution_count": 2,
   "metadata": {
    "collapsed": false
   },
   "outputs": [
    {
     "data": {
      "text/plain": [
       "vector_1st (generic function with 1 method)"
      ]
     },
     "execution_count": 2,
     "metadata": {},
     "output_type": "execute_result"
    }
   ],
   "source": [
    "vector_1st(x::Number)= vector(x,0)"
   ]
  },
  {
   "cell_type": "code",
   "execution_count": 3,
   "metadata": {
    "collapsed": false
   },
   "outputs": [
    {
     "data": {
      "text/plain": [
       "vector(53.2,0)"
      ]
     },
     "execution_count": 3,
     "metadata": {},
     "output_type": "execute_result"
    }
   ],
   "source": [
    "vector_1st(53.2)"
   ]
  },
  {
   "cell_type": "code",
   "execution_count": 4,
   "metadata": {
    "collapsed": false
   },
   "outputs": [
    {
     "data": {
      "text/plain": [
       "vector_1st (generic function with 2 methods)"
      ]
     },
     "execution_count": 4,
     "metadata": {},
     "output_type": "execute_result"
    }
   ],
   "source": [
    "vector_1st(var::Symbol)= vector(var,1)"
   ]
  },
  {
   "cell_type": "code",
   "execution_count": 5,
   "metadata": {
    "collapsed": false
   },
   "outputs": [
    {
     "data": {
      "text/plain": [
       "vector(:x,1)"
      ]
     },
     "execution_count": 5,
     "metadata": {},
     "output_type": "execute_result"
    }
   ],
   "source": [
    "vector_1st(:x)"
   ]
  },
  {
   "cell_type": "code",
   "execution_count": null,
   "metadata": {
    "collapsed": true
   },
   "outputs": [],
   "source": [
    "vector_1st(Expresion::Expr)= vector(Expresion,1)"
   ]
  },
  {
   "cell_type": "code",
   "execution_count": 6,
   "metadata": {
    "collapsed": false
   },
   "outputs": [
    {
     "data": {
      "text/plain": [
       "+ (generic function with 218 methods)"
      ]
     },
     "execution_count": 6,
     "metadata": {},
     "output_type": "execute_result"
    }
   ],
   "source": [
    "function +(v::vector, w::vector)\n",
    "    Suma_vector=vector((),())\n",
    "    f_v=v.funcion\n",
    "    f_w=w.funcion\n",
    "    d_v=v.derivada\n",
    "    d_w=w.derivada\n",
    "    Suma_vector.funcion = :(+($f_v, $f_w))\n",
    "    Suma_vector.derivada = :(+($d_v, $d_w))\n",
    "    return Suma_vector\n",
    "end\n",
    "    "
   ]
  },
  {
   "cell_type": "code",
   "execution_count": 30,
   "metadata": {
    "collapsed": false
   },
   "outputs": [
    {
     "data": {
      "text/plain": [
       "vector(:(x^2 + x),:(2x + 1))"
      ]
     },
     "execution_count": 30,
     "metadata": {},
     "output_type": "execute_result"
    }
   ],
   "source": [
    "vector(:(x^2),:(2x))+vector(:x,1)"
   ]
  },
  {
   "cell_type": "code",
   "execution_count": 8,
   "metadata": {
    "collapsed": false
   },
   "outputs": [
    {
     "data": {
      "text/plain": [
       "- (generic function with 243 methods)"
      ]
     },
     "execution_count": 8,
     "metadata": {},
     "output_type": "execute_result"
    }
   ],
   "source": [
    "function -(v::vector, w::vector)\n",
    "    Resta_vector=vector((),())\n",
    "    f_v=v.funcion\n",
    "    f_w=w.funcion\n",
    "    d_v=v.derivada\n",
    "    d_w=w.derivada\n",
    "    Resta_vector.funcion = :(-($f_v, $f_w))\n",
    "    Resta_vector.derivada = :(-($d_v, $d_w))\n",
    "    return Resta_vector\n",
    "end"
   ]
  },
  {
   "cell_type": "code",
   "execution_count": 9,
   "metadata": {
    "collapsed": false
   },
   "outputs": [
    {
     "data": {
      "text/plain": [
       "vector(:(x - 1),:(1 - 0))"
      ]
     },
     "execution_count": 9,
     "metadata": {},
     "output_type": "execute_result"
    }
   ],
   "source": [
    "vector(:x,1)-vector(1,0)"
   ]
  },
  {
   "cell_type": "code",
   "execution_count": 22,
   "metadata": {
    "collapsed": false
   },
   "outputs": [
    {
     "data": {
      "text/plain": [
       "* (generic function with 284 methods)"
      ]
     },
     "execution_count": 22,
     "metadata": {},
     "output_type": "execute_result"
    }
   ],
   "source": [
    "function *(c::Number, v::vector)\n",
    "    Multiply_vector=vector((),())\n",
    "    n=c\n",
    "    f_v=v.funcion\n",
    "    d_v=v.derivada\n",
    "    Multiply_vector.funcion = :(*($n, $f_v))\n",
    "    Multiply_vector.derivada = :(*($n, $d_v))\n",
    "    return Multiply_vector\n",
    "end"
   ]
  },
  {
   "cell_type": "code",
   "execution_count": 23,
   "metadata": {
    "collapsed": false
   },
   "outputs": [
    {
     "data": {
      "text/plain": [
       "vector(:(2x),:(2 * 1))"
      ]
     },
     "execution_count": 23,
     "metadata": {},
     "output_type": "execute_result"
    }
   ],
   "source": [
    "2*vector(:x,1)"
   ]
  },
  {
   "cell_type": "code",
   "execution_count": 10,
   "metadata": {
    "collapsed": false
   },
   "outputs": [
    {
     "data": {
      "text/plain": [
       "* (generic function with 282 methods)"
      ]
     },
     "execution_count": 10,
     "metadata": {},
     "output_type": "execute_result"
    }
   ],
   "source": [
    "function *(v::vector, w::vector)\n",
    "    Multiply_vector=vector((),())\n",
    "    f_v=v.funcion\n",
    "    f_w=w.funcion\n",
    "    d_v=v.derivada\n",
    "    d_w=w.derivada\n",
    "    Multiply_vector.funcion = :(*($f_v, $f_w))\n",
    "    Multiply_vector.derivada = :(*($f_v, $d_w) + *($f_w, $d_v))\n",
    "    return Multiply_vector\n",
    "end\n",
    "    "
   ]
  },
  {
   "cell_type": "code",
   "execution_count": 11,
   "metadata": {
    "collapsed": false
   },
   "outputs": [
    {
     "data": {
      "text/plain": [
       "vector(:(x * 1),:(x * 0 + 1 * 1))"
      ]
     },
     "execution_count": 11,
     "metadata": {},
     "output_type": "execute_result"
    }
   ],
   "source": [
    "vector(:x,1)*vector(1,0)"
   ]
  },
  {
   "cell_type": "code",
   "execution_count": 12,
   "metadata": {
    "collapsed": false
   },
   "outputs": [
    {
     "data": {
      "text/plain": [
       "/ (generic function with 74 methods)"
      ]
     },
     "execution_count": 12,
     "metadata": {},
     "output_type": "execute_result"
    }
   ],
   "source": [
    "function /(v::vector, w::vector)\n",
    "    Cocient_vector=vector((),())\n",
    "    f_v=v.funcion\n",
    "    f_w=w.funcion\n",
    "    d_v=v.derivada\n",
    "    d_w=w.derivada\n",
    "    Cocient_vector.funcion = :(/($f_v, $f_w))\n",
    "    Cocient_vector.derivada = :((*($f_w, $d_v) - *($f_v, $d_w))/($f_w^2))\n",
    "    return Cocient_vector\n",
    "    \n",
    "end"
   ]
  },
  {
   "cell_type": "code",
   "execution_count": 13,
   "metadata": {
    "collapsed": false
   },
   "outputs": [
    {
     "data": {
      "text/plain": [
       "vector(:(1 / x),:((x * 0 - 1 * 1) / x^2))"
      ]
     },
     "execution_count": 13,
     "metadata": {},
     "output_type": "execute_result"
    }
   ],
   "source": [
    "vector(1,0)/vector(:x,1)"
   ]
  },
  {
   "cell_type": "code",
   "execution_count": 14,
   "metadata": {
    "collapsed": false
   },
   "outputs": [
    {
     "name": "stderr",
     "output_type": "stream",
     "text": [
      "Warning: New definition \n",
      "    ^(vector,Number) at In[14]:2\n",
      "is ambiguous with: \n",
      "    ^(Any,Integer) at intfuncs.jl:86.\n",
      "To fix, define \n",
      "    ^(vector,Integer)\n",
      "before the new definition.\n"
     ]
    },
    {
     "data": {
      "text/plain": [
       "^ (generic function with 54 methods)"
      ]
     },
     "execution_count": 14,
     "metadata": {},
     "output_type": "execute_result"
    }
   ],
   "source": [
    "function ^(v::vector,n::Number)\n",
    "    Rise_vector=vector((),())\n",
    "    f_v=v.funcion\n",
    "    d_v=v.derivada\n",
    "    Rise_vector.funcion = :(^($f_v,n))\n",
    "    Rise_vector.derivada = :(*(^(*(n,$f_v),n-1),$d_v))\n",
    "    return Rise_vector\n",
    "end"
   ]
  },
  {
   "cell_type": "code",
   "execution_count": 16,
   "metadata": {
    "collapsed": false
   },
   "outputs": [
    {
     "data": {
      "text/plain": [
       "vector(:(x * (x * x)),:(x * (x * 1 + x * 1) + (x * x) * 1))"
      ]
     },
     "execution_count": 16,
     "metadata": {},
     "output_type": "execute_result"
    }
   ],
   "source": [
    "vector(:x,1)^3"
   ]
  },
  {
   "cell_type": "markdown",
   "metadata": {
    "collapsed": true
   },
   "source": [
    "ii. Define un polinomio $p(x)$ cuya variable independiente es $x$. Evalúa el polinomio en $\\overline{x}$ (variable independiente $x$), en $x_{0}=0$. ¿Qué interpretación tiene el valor obtenido para $d_{x}$? Y si en lugar de un polinomio utilizas un cociente de polinomios $r(\\overline{x})=p(\\overline{x})/q(\\overline{x})$?"
   ]
  },
  {
   "cell_type": "code",
   "execution_count": 80,
   "metadata": {
    "collapsed": false
   },
   "outputs": [
    {
     "data": {
      "text/plain": [
       "p (generic function with 1 method)"
      ]
     },
     "execution_count": 80,
     "metadata": {},
     "output_type": "execute_result"
    }
   ],
   "source": [
    "p(x)=3x^2 + 2x + 5"
   ]
  },
  {
   "cell_type": "markdown",
   "metadata": {},
   "source": [
    "Para poder evaluar el polinomio en un vector debemos definir la operación suma cuando +(::vector, ::Int64)"
   ]
  },
  {
   "cell_type": "code",
   "execution_count": 78,
   "metadata": {
    "collapsed": false
   },
   "outputs": [
    {
     "data": {
      "text/plain": [
       "+ (generic function with 220 methods)"
      ]
     },
     "execution_count": 78,
     "metadata": {},
     "output_type": "execute_result"
    }
   ],
   "source": [
    "function +(v::vector,n::Number)\n",
    "    Suma_vector=vector((),())\n",
    "    c=n\n",
    "    f_v=v.funcion \n",
    "    d_v=v.derivada\n",
    "    Suma_vector.funcion = :(+($f_v, $c))\n",
    "    Suma_vector.derivada = :($d_v)\n",
    "    return Suma_vector\n",
    "end\n",
    "    "
   ]
  },
  {
   "cell_type": "code",
   "execution_count": 51,
   "metadata": {
    "collapsed": false
   },
   "outputs": [
    {
     "data": {
      "text/plain": [
       "vector(:(x + 2),1)"
      ]
     },
     "execution_count": 51,
     "metadata": {},
     "output_type": "execute_result"
    }
   ],
   "source": [
    "vector(:x,1)+2"
   ]
  },
  {
   "cell_type": "code",
   "execution_count": 90,
   "metadata": {
    "collapsed": false
   },
   "outputs": [
    {
     "data": {
      "text/plain": [
       "vector(:((3 * (x * x) + 2x) + 5),:(3 * (x * 1 + x * 1) + 2 * 1))"
      ]
     },
     "execution_count": 90,
     "metadata": {},
     "output_type": "execute_result"
    }
   ],
   "source": [
    "p_bar=p(vector(:x,1))"
   ]
  },
  {
   "cell_type": "markdown",
   "metadata": {},
   "source": [
    "Cuando defino un polinomio y lo evaluo en un tipo vector, p_bar.derivada me da la derivada del polinomio cuando su argumento es :x"
   ]
  },
  {
   "cell_type": "code",
   "execution_count": 88,
   "metadata": {
    "collapsed": false
   },
   "outputs": [
    {
     "data": {
      "text/plain": [
       "vector(:((3 * (0 * 0) + 2 * 0) + 5),:(3 * (0 * 1 + 0 * 1) + 2 * 1))"
      ]
     },
     "execution_count": 88,
     "metadata": {},
     "output_type": "execute_result"
    }
   ],
   "source": [
    "p_bar=p(vector(0,1))"
   ]
  },
  {
   "cell_type": "code",
   "execution_count": 59,
   "metadata": {
    "collapsed": false
   },
   "outputs": [
    {
     "data": {
      "text/plain": [
       "vector(1,2)"
      ]
     },
     "execution_count": 59,
     "metadata": {},
     "output_type": "execute_result"
    }
   ],
   "source": [
    "vector(eval(:((3 * (0 * 0) + 2 * 0) + 1)),eval(:(3 * (0 * 1 + 0 * 1) + 2 * 1)))"
   ]
  },
  {
   "cell_type": "markdown",
   "metadata": {},
   "source": [
    "p_bar.funcion está dando el término independiente del polinomio y p_bar.derivada está dando el coeficiente de el término lineal\n"
   ]
  },
  {
   "cell_type": "code",
   "execution_count": 81,
   "metadata": {
    "collapsed": false
   },
   "outputs": [
    {
     "data": {
      "text/plain": [
       "q (generic function with 1 method)"
      ]
     },
     "execution_count": 81,
     "metadata": {},
     "output_type": "execute_result"
    }
   ],
   "source": [
    "q(x)=x+3"
   ]
  },
  {
   "cell_type": "code",
   "execution_count": 61,
   "metadata": {
    "collapsed": false
   },
   "outputs": [
    {
     "data": {
      "text/plain": [
       "vector(:(0 + 1),1)"
      ]
     },
     "execution_count": 61,
     "metadata": {},
     "output_type": "execute_result"
    }
   ],
   "source": [
    "q(vector(0,1))"
   ]
  },
  {
   "cell_type": "code",
   "execution_count": 82,
   "metadata": {
    "collapsed": false
   },
   "outputs": [
    {
     "data": {
      "text/plain": [
       "r (generic function with 1 method)"
      ]
     },
     "execution_count": 82,
     "metadata": {},
     "output_type": "execute_result"
    }
   ],
   "source": [
    "r(x)=p(x)/q(x)"
   ]
  },
  {
   "cell_type": "code",
   "execution_count": 83,
   "metadata": {
    "collapsed": false
   },
   "outputs": [
    {
     "data": {
      "text/plain": [
       "vector(:(((3 * (0 * 0) + 2 * 0) + 5) / (0 + 3)),:(((0 + 3) * (3 * (0 * 1 + 0 * 1) + 2 * 1) - ((3 * (0 * 0) + 2 * 0) + 5) * 1) / (0 + 3)^2))"
      ]
     },
     "execution_count": 83,
     "metadata": {},
     "output_type": "execute_result"
    }
   ],
   "source": [
    "r(vector(0,1))"
   ]
  },
  {
   "cell_type": "code",
   "execution_count": 86,
   "metadata": {
    "collapsed": false
   },
   "outputs": [
    {
     "data": {
      "text/plain": [
       "5//3"
      ]
     },
     "execution_count": 86,
     "metadata": {},
     "output_type": "execute_result"
    }
   ],
   "source": [
    "eval(:(((3 * (0 * 0) + 2 * 0) + 5) // (0 + 3)))"
   ]
  },
  {
   "cell_type": "code",
   "execution_count": 87,
   "metadata": {
    "collapsed": false
   },
   "outputs": [
    {
     "data": {
      "text/plain": [
       "1//9"
      ]
     },
     "execution_count": 87,
     "metadata": {},
     "output_type": "execute_result"
    }
   ],
   "source": [
    "eval(:(((0 + 3) * (3 * (0 * 1 + 0 * 1) + 2 * 1) - ((3 * (0 * 0) + 2 * 0) + 5) * 1) // (0 + 3)^2))"
   ]
  },
  {
   "cell_type": "markdown",
   "metadata": {},
   "source": [
    "iii. Pensando en la interpretación que le diste a $d_{x}$, cómo definirías la acción sobre $\\overline{x}$ de las siguientes funciones:"
   ]
  },
  {
   "cell_type": "markdown",
   "metadata": {},
   "source": [
    "- $\\exp(\\,{\\overline x}\\,)$\n",
    "- $\\log(\\,{\\overline x}\\,)$\n",
    "- $\\sin(\\,{\\overline x}\\,)$\n",
    "- $\\cos(\\,{\\overline x}\\,)$\n",
    "- $\\tan(\\,{\\overline x}\\,)$"
   ]
  },
  {
   "cell_type": "code",
   "execution_count": 100,
   "metadata": {
    "collapsed": false
   },
   "outputs": [
    {
     "data": {
      "text/plain": [
       "exp (generic function with 39 methods)"
      ]
     },
     "execution_count": 100,
     "metadata": {},
     "output_type": "execute_result"
    }
   ],
   "source": [
    "import Base.exp\n",
    "function exp(x::vector)\n",
    "    Exponential_vector=vector((),())\n",
    "    f_v=x.funcion\n",
    "    d_v=x.derivada\n",
    "    Exponential_vector.funcion = :(exp($f_v))\n",
    "    Exponential_vector.derivada = :(*(exp($f_v),$d_v))\n",
    "    return Exponential_vector\n",
    "end"
   ]
  },
  {
   "cell_type": "code",
   "execution_count": 102,
   "metadata": {
    "collapsed": false
   },
   "outputs": [
    {
     "data": {
      "text/plain": [
       "vector(:(exp(x)),:(exp(x) * 1))"
      ]
     },
     "execution_count": 102,
     "metadata": {},
     "output_type": "execute_result"
    }
   ],
   "source": [
    "exp(vector(:x,1))"
   ]
  },
  {
   "cell_type": "code",
   "execution_count": 103,
   "metadata": {
    "collapsed": false
   },
   "outputs": [
    {
     "data": {
      "text/plain": [
       "f (generic function with 1 method)"
      ]
     },
     "execution_count": 103,
     "metadata": {},
     "output_type": "execute_result"
    }
   ],
   "source": [
    "f(x)=x^2"
   ]
  },
  {
   "cell_type": "code",
   "execution_count": 105,
   "metadata": {
    "collapsed": false
   },
   "outputs": [
    {
     "data": {
      "text/plain": [
       "vector(:(x * x),:(x * 1 + x * 1))"
      ]
     },
     "execution_count": 105,
     "metadata": {},
     "output_type": "execute_result"
    }
   ],
   "source": [
    "f(vector(:x,1))"
   ]
  },
  {
   "cell_type": "code",
   "execution_count": 106,
   "metadata": {
    "collapsed": false
   },
   "outputs": [
    {
     "data": {
      "text/plain": [
       "vector(:(exp(x * x)),:(exp(x * x) * (x * 1 + x * 1)))"
      ]
     },
     "execution_count": 106,
     "metadata": {},
     "output_type": "execute_result"
    }
   ],
   "source": [
    "exp(f(vector(:x,1)))"
   ]
  },
  {
   "cell_type": "markdown",
   "metadata": {},
   "source": [
    "Basta con importar las funciones correspondientes para julia, pero para cada una de ellas debemos definir que es lo que van a hacer en caso de que su argumento sea un tipo vector (tipo que definí)"
   ]
  },
  {
   "cell_type": "markdown",
   "metadata": {},
   "source": [
    "[7] En el resto del curso, trataremos con *aritmética de intervalos*. En este nuevo tipo de aritmética, ocupamos intervalos $[a,b]$ de la recta real, que es el conjunto \n",
    "\n",
    "$$[a, b] := \\{x : a \\le x \\le b \\}$$"
   ]
  },
  {
   "cell_type": "markdown",
   "metadata": {},
   "source": [
    "(i) Define un tipo composito para representar un intervalo de dos números reales."
   ]
  },
  {
   "cell_type": "code",
   "execution_count": 35,
   "metadata": {
    "collapsed": false
   },
   "outputs": [],
   "source": [
    "type intervalos\n",
    "    left::Float64\n",
    "    right::Float64\n",
    "end"
   ]
  },
  {
   "cell_type": "markdown",
   "metadata": {},
   "source": [
    "(ii) ¿Cómo podríamos tener operaciones sensatas sobre los intervalos? La idea básica es que el resultado de la operación sobre dos intervalos contenga los valores posibles resultantes de operar con los miembros de los dos intervalos respectivos."
   ]
  },
  {
   "cell_type": "markdown",
   "metadata": {},
   "source": [
    "(iii) Implementa estas operaciones, sin tomar en cuenta cuestiones de redondeo."
   ]
  },
  {
   "cell_type": "code",
   "execution_count": 46,
   "metadata": {
    "collapsed": false
   },
   "outputs": [
    {
     "data": {
      "text/plain": [
       "+ (generic function with 219 methods)"
      ]
     },
     "execution_count": 46,
     "metadata": {},
     "output_type": "execute_result"
    }
   ],
   "source": [
    "function +(m::intervalos, n::intervalos)\n",
    "    Suma_intervalos=intervalos(0,0)\n",
    "    Suma_intervalos.left = m.left + n.left\n",
    "    Suma_intervalos.right = m.right + n.right\n",
    "    return Suma_intervalos\n",
    "end"
   ]
  },
  {
   "cell_type": "code",
   "execution_count": 47,
   "metadata": {
    "collapsed": false
   },
   "outputs": [
    {
     "data": {
      "text/plain": [
       "intervalos(5.0,11.0)"
      ]
     },
     "execution_count": 47,
     "metadata": {},
     "output_type": "execute_result"
    }
   ],
   "source": [
    "intervalos(3,7) + intervalos(2,4)"
   ]
  },
  {
   "cell_type": "code",
   "execution_count": 49,
   "metadata": {
    "collapsed": false
   },
   "outputs": [
    {
     "data": {
      "text/plain": [
       "- (generic function with 243 methods)"
      ]
     },
     "execution_count": 49,
     "metadata": {},
     "output_type": "execute_result"
    }
   ],
   "source": [
    "function -(m::intervalos, n::intervalos)\n",
    "    Resta_intervalos=intervalos(0,0)\n",
    "    Resta_intervalos.left = m.left - n.right\n",
    "    Resta_intervalos.right = m.right - n.left\n",
    "    return Resta_intervalos\n",
    "end"
   ]
  },
  {
   "cell_type": "code",
   "execution_count": 50,
   "metadata": {
    "collapsed": false
   },
   "outputs": [
    {
     "data": {
      "text/plain": [
       "intervalos(-1.0,5.0)"
      ]
     },
     "execution_count": 50,
     "metadata": {},
     "output_type": "execute_result"
    }
   ],
   "source": [
    "intervalos(3,7) - intervalos(2,4)"
   ]
  },
  {
   "cell_type": "code",
   "execution_count": 51,
   "metadata": {
    "collapsed": false
   },
   "outputs": [
    {
     "data": {
      "text/plain": [
       "* (generic function with 282 methods)"
      ]
     },
     "execution_count": 51,
     "metadata": {},
     "output_type": "execute_result"
    }
   ],
   "source": [
    "function *(x::intervalos, y::intervalos)\n",
    "    Mult_intervalos=intervalos(0,0)\n",
    "    Mult_intervalos.left = min(x.left*y.left, x.left*y.right, x.right*y.left, x.right*y.right)\n",
    "    Mult_intervalos.right = max(x.left*y.left, x.left*y.right, x.right*y.left, x.right*y.right)\n",
    "    return Mult_intervalos\n",
    "end"
   ]
  },
  {
   "cell_type": "code",
   "execution_count": 52,
   "metadata": {
    "collapsed": false
   },
   "outputs": [
    {
     "data": {
      "text/plain": [
       "intervalos(6.0,28.0)"
      ]
     },
     "execution_count": 52,
     "metadata": {},
     "output_type": "execute_result"
    }
   ],
   "source": [
    "intervalos(3,7)*intervalos(2,4)"
   ]
  },
  {
   "cell_type": "code",
   "execution_count": 70,
   "metadata": {
    "collapsed": false
   },
   "outputs": [
    {
     "data": {
      "text/plain": [
       "/ (generic function with 75 methods)"
      ]
     },
     "execution_count": 70,
     "metadata": {},
     "output_type": "execute_result"
    }
   ],
   "source": [
    "function /(x::intervalos, y::intervalos)\n",
    "    \n",
    "    Div_intervalos=intervalos(0,0)\n",
    "    \n",
    "    if y.left + y.right > y.right\n",
    "        Div_intervalos.left = min(x.left/y.left, x.left/y.right, x.right/y.left, x.right/y.right)\n",
    "        Div_intervalos.right = max(x.left/y.left, x.left/y.right, x.right/y.left, x.right/y.right)\n",
    "        return Div_intervalos\n",
    "    else \n",
    "        println(\"ERROR - El intervalo del denominador contiene al 0\")\n",
    "    end\n",
    "end"
   ]
  },
  {
   "cell_type": "code",
   "execution_count": 68,
   "metadata": {
    "collapsed": false
   },
   "outputs": [
    {
     "data": {
      "text/plain": [
       "intervalos(0.75,3.5)"
      ]
     },
     "execution_count": 68,
     "metadata": {},
     "output_type": "execute_result"
    }
   ],
   "source": [
    "intervalos(3,7)/intervalos(2,4)"
   ]
  },
  {
   "cell_type": "code",
   "execution_count": 71,
   "metadata": {
    "collapsed": false
   },
   "outputs": [
    {
     "name": "stdout",
     "output_type": "stream",
     "text": [
      "ERROR - El intervalo del denominador contiene al 0\n"
     ]
    }
   ],
   "source": [
    "intervalos(3,7)/intervalos(-2,4)"
   ]
  },
  {
   "cell_type": "code",
   "execution_count": null,
   "metadata": {
    "collapsed": true
   },
   "outputs": [],
   "source": []
  }
 ],
 "metadata": {
  "kernelspec": {
   "display_name": "Julia 0.3.6",
   "language": "julia",
   "name": "julia 0.3"
  },
  "language_info": {
   "name": "julia",
   "version": "0.3.6"
  }
 },
 "nbformat": 4,
 "nbformat_minor": 0
}
