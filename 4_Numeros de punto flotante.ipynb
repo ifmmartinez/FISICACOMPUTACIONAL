{
 "cells": [
  {
   "cell_type": "markdown",
   "metadata": {},
   "source": [
    "# 04. Números de punto flotante y redondeo"
   ]
  },
  {
   "cell_type": "markdown",
   "metadata": {},
   "source": [
    "### 1. Números de punto flotante y la norma IEEE 754"
   ]
  },
  {
   "cell_type": "markdown",
   "metadata": {},
   "source": [
    "Los números de punto flotante son números reales que tienen la forma:\n",
    "\n",
    "\\begin{equation}\n",
    "x = (-1)^\\sigma m \\times \\beta^e,\n",
    "\\end{equation}\n",
    "donde $\\beta\\geq 2$ es un entero mayor que define la *base*, $m = (b_0.b_1\\, b_2\\, b_3  \\cdots)_\\beta$ es la *mantisa* o *significante* escrita en la base $\\beta$, donde $b_i = {0, 1, \\dots, \\beta-1}$, y $\\sigma$ sirve para definir el signo. Finalmente, $e$, el exponente, es un número entero. Para evitar *las colas infinitas de nueves*, que en binario son las de unos, uno además pide que $0\\leq b_i \\leq \\beta-2$ para un número infinito de $i$'s.\n",
    "\n",
    "Este conjunto es *no numerable*, como los reales. Esta representación *no es única*.\n",
    "\n",
    "Llevar los reales a la computadora obviamente involucra hacer dos concesiones:  en primer lugar, uno debe considerar conjuntos *finitos* de números como modelo de los reales, y en segundo término, que la representación sea *única*.\n",
    "\n",
    "En particular, pedimos que el primer dígito $b_0$ no sea cero para todo $x$ distinto de cero; los números de punto flotante que satisfacen esta condición se llaman *normales* o *normalizados*."
   ]
  },
  {
   "cell_type": "markdown",
   "metadata": {},
   "source": [
    "Hacer que el número de *bits* (o sea, la base es $\\beta=2$) sea finito no es suficiente considerar\n",
    "que la mantisa consista de un número finito de entradas, sino además que el rango de $e$ sea *finito*. Esto es:\n",
    "\n",
    "\\begin{eqnarray}\n",
    "m & = & (b_0.b_1\\,b_2\\,\\cdots \\, b_p),\\\\\n",
    "e & \\in & [ e_{min}, e_{max} ].\\\\\n",
    "\\end{eqnarray}\n",
    "\n",
    "Aquí, $p$ se conoce como el número de *dígitos significativos* (*precision* en inglés), que **no** hay que confundir con la precisión (*accuracy*).\n",
    "\n",
    "En el caso de la representación binaria, dado que $b_0=1$, entonces uno *puede* obviar esto, lo que significa que el bit $b_0$ **no** se guarda. A esta convención se le llama la *regla del bit escondido* (*hidden bit rule*). "
   ]
  },
  {
   "cell_type": "markdown",
   "metadata": {},
   "source": [
    "-----\n",
    "\n",
    "**Ejercicio 1** \n",
    "\n",
    "Dados $p$, $e_{min}$ y $e_{max}$, usando el sistema binario, ¿de cuántos números *normales* consiste el conjunto? ¿Y si se trata de otra base $\\beta$? ¿Están uniformemente distribuidos los números normales? ¿Cuál es la distancia entre el 0 y el primer número positivo distinto de cero?\n",
    "*NOTA* Para guiar la respuesta, uno puede jugar con $\\beta=2$, $p=2$,  $e_{min} = -1$ y $e_{max} = 2$, pero la idea es obtener expresiones generales.\n",
    "\n",
    "(Entre paréntesis, a estas alturas del partido deben haber escrito funciones que permiten pasar de un entero a una cadena binaria equivalente, y viceversa, y de un número de punto flotante en base 10 al equivalente en binario, y viceversa. No sólo se trata de que estas funciones estén escritas, sino de que nos sean *útiles*, o sea, de que den resultados que podemos confiar y usar.)\n"
   ]
  },
  {
   "cell_type": "code",
   "execution_count": 25,
   "metadata": {
    "collapsed": false,
    "scrolled": true
   },
   "outputs": [
    {
     "ename": "LoadError",
     "evalue": "binarios not found\nwhile loading In[25], in expression starting on line 1",
     "output_type": "error",
     "traceback": [
      "binarios not found\nwhile loading In[25], in expression starting on line 1",
      "",
      " in require at ./loading.jl:49"
     ]
    }
   ],
   "source": [
    "using binarios"
   ]
  },
  {
   "cell_type": "code",
   "execution_count": 53,
   "metadata": {
    "collapsed": false
   },
   "outputs": [
    {
     "data": {
      "text/plain": [
       "Conteo_BinNormal (generic function with 1 method)"
      ]
     },
     "execution_count": 53,
     "metadata": {},
     "output_type": "execute_result"
    }
   ],
   "source": [
    "function Conteo_BinNormal(e_min::Int, e_max::Int)\n",
    "    for b_1=0:1 #tiene p=2, es decir, sólo se toman b_1 y b_2\n",
    "        for b_2=0:1 #b_1, b_2 pueden tomar los valores de 0 y 1 solamente\n",
    "            for i=e_min:e_max\n",
    "            x=\"1.$b_1$b_2*2^($i)\"\n",
    "                println(x)\n",
    "            end\n",
    "            println(\"-------------\")\n",
    "        end\n",
    "    end\n",
    "end"
   ]
  },
  {
   "cell_type": "code",
   "execution_count": 54,
   "metadata": {
    "collapsed": false,
    "scrolled": true
   },
   "outputs": [
    {
     "name": "stdout",
     "output_type": "stream",
     "text": [
      "1.00*2^(-1)\n",
      "1.00*2^(0)\n",
      "1.00*2^(1)\n",
      "1.00*2^(2)\n",
      "-------------\n",
      "1.01*2^(-1)\n",
      "1.01*2^(0)\n",
      "1.01*2^(1)\n",
      "1.01*2^(2)\n",
      "-------------\n",
      "1.10*2^(-1)\n",
      "1.10*2^(0)\n",
      "1.10*2^(1)\n",
      "1.10*2^(2)\n",
      "-------------\n",
      "1.11*2^(-1)\n",
      "1.11*2^(0)\n",
      "1.11*2^(1)\n",
      "1.11*2^(2)\n",
      "-------------\n"
     ]
    }
   ],
   "source": [
    "Conteo_BinNormal(-1,2)"
   ]
  },
  {
   "cell_type": "markdown",
   "metadata": {},
   "source": [
    "Para este modelo de juguete, con la elección del signo hecha, se obtienen 16 números normales posibles. Se puede ver una distinción clara entre $2^p$ grupos de números y el la cantidad de números en cada grupo está dado por $|e_{max}-e_{min}|+1$"
   ]
  },
  {
   "cell_type": "markdown",
   "metadata": {},
   "source": [
    "---\n",
    "\n",
    "**Ejercicio 2** \n",
    "\n",
    "¿Cómo se representa al $x=0$ en el conjunto anterior? ¿Funciona la regla del bit escondido para una base $\\beta>3$?"
   ]
  },
  {
   "cell_type": "markdown",
   "metadata": {},
   "source": [
    "De el primer grupo de números\n",
    "\n",
    "$1.00\\times2^{-1}=0.5\\\\\n",
    "1.00\\times2^{0}=1\\\\\n",
    "1.00\\times2^{1}=2\\\\\n",
    "1.00\\times2^{2}=4\\\\$\n",
    "\n",
    "En este conjunto de número, el $x=0$ está representado por $x=1.00\\times2^{-1}$"
   ]
  },
  {
   "cell_type": "code",
   "execution_count": 72,
   "metadata": {
    "collapsed": false
   },
   "outputs": [
    {
     "data": {
      "text/plain": [
       "1.0"
      ]
     },
     "execution_count": 72,
     "metadata": {},
     "output_type": "execute_result"
    }
   ],
   "source": [
    "significand(0.5)"
   ]
  },
  {
   "cell_type": "code",
   "execution_count": 71,
   "metadata": {
    "collapsed": false
   },
   "outputs": [
    {
     "data": {
      "text/plain": [
       "-1"
      ]
     },
     "execution_count": 71,
     "metadata": {},
     "output_type": "execute_result"
    }
   ],
   "source": [
    "exponent(0.5)"
   ]
  },
  {
   "cell_type": "markdown",
   "metadata": {},
   "source": [
    "Del ejercicio 1 arriba, uno se da cuenta de que hay una distancia anómalamente grande entre 0 y el primer número positivo. Esto trae problemas prácticos relacionados con la pérdida de precisión cuando se tienen cantidades cercanas a cero. La manera de evitar esto es permitir que haya ciertos números que no son normales; a éstos se les llama *subnormales*. Un número distinto de cero es subnormal si $b_0=0$. Esto permite llegar a cero de manera gradual al incorporar estos números al conjunto de números representables.\n"
   ]
  },
  {
   "cell_type": "markdown",
   "metadata": {},
   "source": [
    "---\n",
    "\n",
    "**Ejercicio 3**\n",
    "\n",
    "En el ejemplo de juguete anterior ($\\beta=2$, $p=2$,  $e_{min} = -1$ y $e_{max} = 2$) enumera los posibles números subnormales. ¿Cómo cambia la distancia de 0 al número positivo más próximo? ¿El espaciamiento entre los números subnormales, es uniforme?\n"
   ]
  },
  {
   "cell_type": "code",
   "execution_count": 61,
   "metadata": {
    "collapsed": false
   },
   "outputs": [
    {
     "data": {
      "text/plain": [
       "Conteo_BinSubnormal (generic function with 1 method)"
      ]
     },
     "execution_count": 61,
     "metadata": {},
     "output_type": "execute_result"
    }
   ],
   "source": [
    "function Conteo_BinSubnormal(e_min::Int, e_max::Int)\n",
    "    for b_1=0:1 #tiene p=2, es decir, sólo se toman b_1 y b_2\n",
    "        for b_2=0:1 #b_1, b_2 pueden tomar los valores de 0 y 1 solamente\n",
    "            for i=e_min:e_max\n",
    "            x=\"0.$b_1$b_2*2^($i)\"\n",
    "                println(x)\n",
    "            end\n",
    "            println(\"-------------\")\n",
    "        end\n",
    "    end\n",
    "end"
   ]
  },
  {
   "cell_type": "code",
   "execution_count": 63,
   "metadata": {
    "collapsed": false
   },
   "outputs": [
    {
     "name": "stdout",
     "output_type": "stream",
     "text": [
      "0.00*2^(-1)\n",
      "0.00*2^(0)\n",
      "0.00*2^(1)\n",
      "0.00*2^(2)\n",
      "-------------\n",
      "0.01*2^(-1)\n",
      "0.01*2^(0)\n",
      "0.01*2^(1)\n",
      "0.01*2^(2)\n",
      "-------------\n",
      "0.10*2^(-1)\n",
      "0.10*2^(0)\n",
      "0.10*2^(1)\n",
      "0.10*2^(2)\n",
      "-------------\n",
      "0.11*2^(-1)\n",
      "0.11*2^(0)\n",
      "0.11*2^(1)\n",
      "0.11*2^(2)\n",
      "-------------\n"
     ]
    }
   ],
   "source": [
    "Conteo_BinSubnormal(-1,2)"
   ]
  },
  {
   "cell_type": "markdown",
   "metadata": {},
   "source": [
    "Puesto que el primer grupo de números no nos sirve, del segundo\n",
    "\n",
    "$0.01\\times 2^{-1}=0.125\\\\\n",
    "0.01\\times 2^{0}=0.25\\\\\n",
    "0.01\\times 2^{1}=0.5\\\\\n",
    "0.01\\times 2^{2}=1.0\\\\$\n",
    "\n",
    "Por lo cual, el número $x=0$ está representado, en el conjunto de números subnormales, por $x=0.01\\times 2^{-1}$"
   ]
  },
  {
   "cell_type": "markdown",
   "metadata": {},
   "source": [
    "---\n",
    "\n",
    "**Ejercicio 4**\n",
    "\n",
    "¿Qué expresiones definen a $N_{min}$ y $N_{max}$, los números de punto flotante (positivos) mínimo y máximo? Obtén los resultados para los números normales y los subnormales."
   ]
  },
  {
   "cell_type": "markdown",
   "metadata": {},
   "source": [
    "Un número normal está dado por\n",
    "\n",
    "$N=1.b_{1}b_{2}...b_{p}\\times\\beta^{e}$\n",
    "\n",
    "entonces, el mínimo número normal que puede ser creado es aquel que tiene $b_1, b_2, ... , b_{p-1}=0$ y $b_{p}=1$, eliminando así las colas infinitas, y que esté elevado a $e_{min}$\n",
    "\n",
    "$N_{min}=1.00...1\\times\\beta^{e_{min}}$\n",
    "\n",
    "el máximo número normal que puede ser creado es aquel que tiene $b_1, b_2, ... , b_{p-1}=\\beta-1$ y $b_{p}=0$, eliminando así las colas infinitas, y que esté elevado a $e_{max}$\n",
    "\n",
    "$N_{max}=1.(\\beta-1)(\\beta-1)...0\\times\\beta^{e_{max}}$\n",
    "\n",
    "la misma estructura puede ser seguida para los números normales, con la única diferencia de que $b_0=0$"
   ]
  },
  {
   "cell_type": "markdown",
   "metadata": {},
   "source": [
    "La norma [IEEE 754](http://en.wikipedia.org/wiki/IEEE_floating_point) define el estándar de la representación de los números de punto flotante en las computadoras. En particular, aquí nos interesará la representación *en doble precisión* o de 64-bits, que consiste en el primer bit que contiene el signo $\\sigma$, de un exponente $e$ de 11-bits que tiene un *sesgo* (*bias*) $B_*$ y de la mantisa que consta de $p=52$ bits (de facto, $p=53$, si se incluye la regla del bit escondido). El resultado claramente son los 64 bits de almacenamiento.\n",
    "\n",
    "El sesgo se introduce por la siguiente razón. Sin sesgo, el exponente $e$ varía entre 0 y $2^{E_*} - 1$, donde $E_*$ son el número de bits asignados al exponente. Entonces, el sesgo se introduce *restando* $B_* = 2^{E_*-1} - 1$ del exponente, lo que de facto hace que el rango del exponente sea $e \\in [-2^{E_*-1} + 1, 2^{E_*-1}]$.\n",
    "\n"
   ]
  },
  {
   "cell_type": "markdown",
   "metadata": {},
   "source": [
    "---\n",
    "\n",
    "**Ejercicio 5**\n",
    "\n",
    "Usando `bits` y un poco de imaginación, cuáles son las reglas para representar\n",
    "- $x=$`NaN`\n",
    "\n",
    "- $x=$`Inf`\n",
    "\n",
    "- un número $x>0$ *normal*\n",
    "\n",
    "- un número $x$ *subnormal*\n",
    "\n",
    "- $x=0.0$ y $x = -0.0$"
   ]
  },
  {
   "cell_type": "code",
   "execution_count": 101,
   "metadata": {
    "collapsed": false
   },
   "outputs": [
    {
     "data": {
      "text/plain": [
       "\"0111111111111000000000000000000000000000000000000000000000000000\""
      ]
     },
     "execution_count": 101,
     "metadata": {},
     "output_type": "execute_result"
    }
   ],
   "source": [
    "bits(NaN)"
   ]
  },
  {
   "cell_type": "code",
   "execution_count": 102,
   "metadata": {
    "collapsed": false
   },
   "outputs": [
    {
     "data": {
      "text/plain": [
       "\"0111111111110000000000000000000000000000000000000000000000000000\""
      ]
     },
     "execution_count": 102,
     "metadata": {},
     "output_type": "execute_result"
    }
   ],
   "source": [
    "bits(Inf)"
   ]
  },
  {
   "cell_type": "code",
   "execution_count": 103,
   "metadata": {
    "collapsed": false
   },
   "outputs": [
    {
     "data": {
      "text/plain": [
       "\"0011111111100000000000000000000000000000000000000000000000000000\""
      ]
     },
     "execution_count": 103,
     "metadata": {},
     "output_type": "execute_result"
    }
   ],
   "source": [
    "bits(0.5)"
   ]
  },
  {
   "cell_type": "code",
   "execution_count": 109,
   "metadata": {
    "collapsed": false
   },
   "outputs": [
    {
     "data": {
      "text/plain": [
       "\"0011111111110000000000000000000000000000000000000000000000000000\""
      ]
     },
     "execution_count": 109,
     "metadata": {},
     "output_type": "execute_result"
    }
   ],
   "source": [
    "bits(1.0)"
   ]
  },
  {
   "cell_type": "code",
   "execution_count": 106,
   "metadata": {
    "collapsed": false
   },
   "outputs": [
    {
     "data": {
      "text/plain": [
       "\"0100000000000000000000000000000000000000000000000000000000000000\""
      ]
     },
     "execution_count": 106,
     "metadata": {},
     "output_type": "execute_result"
    }
   ],
   "source": [
    "bits(2.0)"
   ]
  },
  {
   "cell_type": "code",
   "execution_count": 107,
   "metadata": {
    "collapsed": false
   },
   "outputs": [
    {
     "data": {
      "text/plain": [
       "\"0100000000010000000000000000000000000000000000000000000000000000\""
      ]
     },
     "execution_count": 107,
     "metadata": {},
     "output_type": "execute_result"
    }
   ],
   "source": [
    "bits(4.0)"
   ]
  },
  {
   "cell_type": "code",
   "execution_count": 110,
   "metadata": {
    "collapsed": false
   },
   "outputs": [
    {
     "data": {
      "text/plain": [
       "\"0011111111000000000000000000000000000000000000000000000000000000\""
      ]
     },
     "execution_count": 110,
     "metadata": {},
     "output_type": "execute_result"
    }
   ],
   "source": [
    "bits(0.125)"
   ]
  },
  {
   "cell_type": "code",
   "execution_count": 113,
   "metadata": {
    "collapsed": false
   },
   "outputs": [
    {
     "data": {
      "text/plain": [
       "\"0000000000000000000000000000000000000000000000000000000000000000\""
      ]
     },
     "execution_count": 113,
     "metadata": {},
     "output_type": "execute_result"
    }
   ],
   "source": [
    "bits(0.0)"
   ]
  },
  {
   "cell_type": "code",
   "execution_count": 114,
   "metadata": {
    "collapsed": false
   },
   "outputs": [
    {
     "data": {
      "text/plain": [
       "\"1000000000000000000000000000000000000000000000000000000000000000\""
      ]
     },
     "execution_count": 114,
     "metadata": {},
     "output_type": "execute_result"
    }
   ],
   "source": [
    "bits(-0.0)"
   ]
  },
  {
   "cell_type": "code",
   "execution_count": 127,
   "metadata": {
    "collapsed": false
   },
   "outputs": [
    {
     "data": {
      "text/plain": [
       "CompararBits (generic function with 1 method)"
      ]
     },
     "execution_count": 127,
     "metadata": {},
     "output_type": "execute_result"
    }
   ],
   "source": [
    "function CompararBits(x,y)\n",
    "    a=bits(x)\n",
    "    b=bits(y)\n",
    "    println(a)\n",
    "    println(b)\n",
    "    for i=1:length(a)\n",
    "        if a[i]!=b[i]\n",
    "            println(\"Difieren en la posición $i\")\n",
    "        else\n",
    "        end\n",
    "    end\n",
    "end"
   ]
  },
  {
   "cell_type": "code",
   "execution_count": 130,
   "metadata": {
    "collapsed": false
   },
   "outputs": [
    {
     "name": "stdout",
     "output_type": "stream",
     "text": [
      "0000000000000000000000000000000000000000000000000000000000000000\n",
      "1000000000000000000000000000000000000000000000000000000000000000\n",
      "Difieren en la posición 1\n"
     ]
    }
   ],
   "source": [
    "CompararBits(0.0,-0.0) #El primer bit es el signo"
   ]
  },
  {
   "cell_type": "code",
   "execution_count": 189,
   "metadata": {
    "collapsed": false
   },
   "outputs": [
    {
     "name": "stdout",
     "output_type": "stream",
     "text": [
      "0011111111110000000000000000000000000000000000000000000000000000\n",
      "0011111111111000000000000000000000000000000000000000000000000000\n",
      "Difieren en la posición 13\n"
     ]
    }
   ],
   "source": [
    "CompararBits(1.0, 1.5) #desde la posición 13 se comienza a contar los exponentes"
   ]
  },
  {
   "cell_type": "code",
   "execution_count": 207,
   "metadata": {
    "collapsed": false
   },
   "outputs": [
    {
     "name": "stdout",
     "output_type": "stream",
     "text": [
      "0100000000000000000000000000000000000000000000000000000000000000\n",
      "0011111111110000000000000000000000000000000000000000000000000000\n",
      "Difieren en la posición 2\n",
      "Difieren en la posición 3\n",
      "Difieren en la posición 4\n",
      "Difieren en la posición 5\n",
      "Difieren en la posición 6\n",
      "Difieren en la posición 7\n",
      "Difieren en la posición 8\n",
      "Difieren en la posición 9\n",
      "Difieren en la posición 10\n",
      "Difieren en la posición 11\n",
      "Difieren en la posición 12\n"
     ]
    }
   ],
   "source": [
    "CompararBits(2.0,1.0) #el primer bit, es el bit escondido"
   ]
  },
  {
   "cell_type": "markdown",
   "metadata": {},
   "source": [
    "---\n",
    "\n",
    "**Ejercicio 7** Donde *todo esto*, y mucho más, puede ser importante...\n",
    "\n",
    "Escribe una función que evalúe\n",
    "\n",
    "\\begin{equation}\n",
    "f(x,y) = 333.75 y^6 + x^2 (11 x^2 y^2 - y^6 - 121 y^4 - 2) + 5.5 y^8 + \\frac{x}{2y}\n",
    "\\end{equation}\n",
    "\n",
    "Usando esta función, *demuestra* que $f(x=77617, y=33096) = -0.8273960599468214$.\n",
    "\n",
    "**NOTA** Los números han sido verificados y *son correctos* :-)"
   ]
  },
  {
   "cell_type": "code",
   "execution_count": 208,
   "metadata": {
    "collapsed": false
   },
   "outputs": [
    {
     "data": {
      "text/plain": [
       "f (generic function with 1 method)"
      ]
     },
     "execution_count": 208,
     "metadata": {},
     "output_type": "execute_result"
    }
   ],
   "source": [
    "function f(x, y)\n",
    "    x=BigFloat(x)\n",
    "    y=BigFloat(y)\n",
    "    z=  11*x^2*x^2*y^2-121*y^4*x^2 + 333.75*y^6 + 5.5*y^8 - x^2*y^6 +x/(2*y) - 2*x^2\n",
    "end"
   ]
  },
  {
   "cell_type": "code",
   "execution_count": 209,
   "metadata": {
    "collapsed": false
   },
   "outputs": [
    {
     "data": {
      "text/plain": [
       "-8.273960599468213681411650954798162919990331157843848199178148416726751921071602e-01 with 256 bits of precision"
      ]
     },
     "execution_count": 209,
     "metadata": {},
     "output_type": "execute_result"
    }
   ],
   "source": [
    "f(77617, 33096)"
   ]
  },
  {
   "cell_type": "markdown",
   "metadata": {},
   "source": [
    "---\n",
    "\n",
    "**Ejercicio 8**\n",
    "\n",
    "Pensando en que vas a generar datos para hacer una gráfica (con suficientes puntos), genera dichos datos para los *polinomios* $f(x) = (1-x)^6$ y $g(x) = x^6 -6x^5 + 15x^4 -20 x^3 + 15x^2 - 6 x + 1$, en el dominio $0.995 \\leq x \\leq 1.005$. ¿Hay algo sorprendente en esto?"
   ]
  },
  {
   "cell_type": "code",
   "execution_count": 211,
   "metadata": {
    "collapsed": false
   },
   "outputs": [
    {
     "data": {
      "text/plain": [
       "f (generic function with 2 methods)"
      ]
     },
     "execution_count": 211,
     "metadata": {},
     "output_type": "execute_result"
    }
   ],
   "source": [
    "f(x) = (1-x)^6"
   ]
  },
  {
   "cell_type": "code",
   "execution_count": 212,
   "metadata": {
    "collapsed": false
   },
   "outputs": [
    {
     "data": {
      "text/plain": [
       "g (generic function with 1 method)"
      ]
     },
     "execution_count": 212,
     "metadata": {},
     "output_type": "execute_result"
    }
   ],
   "source": [
    "g(x) = x^6-6*x^5+15*x^4-20*x^3+15*x^2-6*x + 1"
   ]
  },
  {
   "cell_type": "code",
   "execution_count": 215,
   "metadata": {
    "collapsed": false
   },
   "outputs": [
    {
     "name": "stdout",
     "output_type": "stream",
     "text": [
      "-5.259668650979528e-16\n",
      "1.9876617141886788e-16\n",
      "-1.688248121581644e-15\n",
      "-9.669220486649986e-16\n",
      "8.864664014254231e-16\n",
      "-2.664535261690304e-15\n",
      "-1.7767596457360926e-15\n",
      "1.7380613736541627e-15\n",
      "-4.949430003763371e-16\n",
      "-1.1829541965693856e-15\n",
      "-4.608949521072398e-15\n"
     ]
    }
   ],
   "source": [
    "for x = 0.995:(2.0)^-10:1.005\n",
    "    println(\"$(g(x)-f(x))\")\n",
    "end"
   ]
  },
  {
   "cell_type": "code",
   "execution_count": 216,
   "metadata": {
    "collapsed": false
   },
   "outputs": [
    {
     "name": "stdout",
     "output_type": "stream",
     "text": [
      "7.219027189322127047587373590486929593844353341833827024265417113487685807112469e-77\n",
      "6.708063327198029884595736250868826881945351060445085414106194936165420784804619e-77\n",
      "6.197099465073935789787514722329819854903820645478620663456668070999133957214968e-77\n",
      "5.686135602949838530915145638615495402853022368264182901437767915171994616322174e-77\n",
      "5.175171740825741400882509836030468914131199960440524343480310042960780141027899e-77\n",
      "4.664207878701644238078139550600054135318431655606129796117688799190282451373536e-77\n",
      "4.1532440165775470748992351567942634903331953976630411231618656883162500964122e-77\n",
      "3.642280154453449926888962152191195425332911240622064536730718195135371686383248e-77\n",
      "3.13131629232935281183769068462120358350980695714617100250133500706554382336787e-77\n",
      "2.62035243020525564884605334500310087161080467575742939234211282974327880106002e-77\n",
      "2.109388568081155417671000194305902474854330527946410922673195340265035584033972e-77\n"
     ]
    }
   ],
   "source": [
    "for x = BigFloat(0.995):BigFloat((2.0)^-10):BigFloat(1.005)\n",
    "    println(\"$(f(x)-g(x))\")\n",
    "end"
   ]
  },
  {
   "cell_type": "markdown",
   "metadata": {},
   "source": [
    "A pesar de que algebraicamente son el mismo polinomio, la computadora nota la diferencia de la expresiones y calcula errores, los cuales pueden ser \"casi\" arreglados con el uso de Bigfloat"
   ]
  },
  {
   "cell_type": "markdown",
   "metadata": {},
   "source": [
    "---\n",
    "\n",
    "**Ejercicio 9**\n",
    "\n",
    "Explica por qué es mala idea usar como paso de integración $0.1$ o $0.01$, u otros valores de este estilo. ¿Qué pasa con el tiempo que vas calculando en cada paso de la integración?"
   ]
  },
  {
   "cell_type": "code",
   "execution_count": 217,
   "metadata": {
    "collapsed": false
   },
   "outputs": [
    {
     "data": {
      "text/plain": [
       "\"0011111110111001100110011001100110011001100110011001100110011010\""
      ]
     },
     "execution_count": 217,
     "metadata": {},
     "output_type": "execute_result"
    }
   ],
   "source": [
    "bits(0.1)"
   ]
  },
  {
   "cell_type": "markdown",
   "metadata": {
    "collapsed": false
   },
   "source": [
    "Debido a que $0.1$ tiene una representación poco exacta en binaro, se podrían ir acumulando errores avanzando en la iteración; sin embargo, si utilizamos un número con una representación binaria exacta (una potencia de 2) el cálculo es más limpio."
   ]
  },
  {
   "cell_type": "code",
   "execution_count": null,
   "metadata": {
    "collapsed": true
   },
   "outputs": [],
   "source": []
  }
 ],
 "metadata": {
  "kernelspec": {
   "display_name": "Julia 0.3.6",
   "language": "julia",
   "name": "julia 0.3"
  },
  "language_info": {
   "name": "julia",
   "version": "0.3.6"
  }
 },
 "nbformat": 4,
 "nbformat_minor": 0
}
